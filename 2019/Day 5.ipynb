{
 "cells": [
  {
   "cell_type": "code",
   "execution_count": 1,
   "metadata": {},
   "outputs": [],
   "source": [
    "from tools import get_data"
   ]
  },
  {
   "cell_type": "code",
   "execution_count": 2,
   "metadata": {},
   "outputs": [],
   "source": [
    "data = get_data(5)"
   ]
  },
  {
   "cell_type": "code",
   "execution_count": 3,
   "metadata": {},
   "outputs": [],
   "source": [
    "OPS = {}\n",
    "\n",
    "def register_op(opcode, argcount):\n",
    "    def decorator(fn):\n",
    "        OPS[opcode] = (fn, argcount)\n",
    "        return fn\n",
    "    return decorator"
   ]
  },
  {
   "cell_type": "code",
   "execution_count": null,
   "metadata": {},
   "outputs": [],
   "source": [
    "def mode_index(mode, i):\n",
    "    return (mode // (10 * i))"
   ]
  },
  {
   "cell_type": "code",
   "execution_count": 10,
   "metadata": {},
   "outputs": [],
   "source": [
    "@register_op(opcode=1, argcount=3)\n",
    "def add(tape, mode, ai, bi, oi):\n",
    "    v1 = ai if mode[0] else tape[ai]\n",
    "    v2 = bi if mode[1] else tape[bi]\n",
    "    tape[oi] = v1 + v2"
   ]
  },
  {
   "cell_type": "code",
   "execution_count": 11,
   "metadata": {},
   "outputs": [],
   "source": [
    "@register_op(opcode=2, argcount=3)\n",
    "def multiply(tape, mode, ai, bi, oi):\n",
    "    v1 = ai if mode[0] else tape[ai]\n",
    "    v2 = bi if mode[1] else tape[bi]\n",
    "    tape[oi] = v1 * v2"
   ]
  },
  {
   "cell_type": "code",
   "execution_count": 9,
   "metadata": {},
   "outputs": [],
   "source": [
    "@register_op(opcode=3, argcount=1)\n",
    "def _input(tape, mode, oi):\n",
    "    tape[oi] = int(input('Requesting program input> '))"
   ]
  },
  {
   "cell_type": "code",
   "execution_count": 12,
   "metadata": {},
   "outputs": [],
   "source": [
    "@register_op(opcode=4, argcount=1)\n",
    "def _output(tape, mode, ai):\n",
    "    v1 = ai if mode[0] else tape[ai]\n",
    "    print(\"Output:\", v1)"
   ]
  },
  {
   "cell_type": "code",
   "execution_count": 6,
   "metadata": {},
   "outputs": [],
   "source": [
    "HALT = 99"
   ]
  },
  {
   "cell_type": "code",
   "execution_count": 18,
   "metadata": {},
   "outputs": [],
   "source": [
    "def evaluate(tape, debug=False):\n",
    "    index = 0\n",
    "    while tape[index] != HALT:\n",
    "        if debug:\n",
    "            #print(f\"INDEX: {index}, OP: {tape[index]}, TAPE: {','.join(str(v) for v in tape)}\")\n",
    "            pass\n",
    "        opcode = tape[index]\n",
    "        opcode_base = opcode % 100\n",
    "        op, argcount = OPS[opcode_base]\n",
    "        mode_v = (opcode - (opcode % 100)) // 100\n",
    "        mode_s = str(mode_v)\n",
    "        padded_mode_s = '0' * (argcount - len(mode_s)) + mode_s\n",
    "        mode = [int(c) for c in reversed(padded_mode_s)]\n",
    "        next_index = index + argcount + 1\n",
    "        if debug:\n",
    "            print(f\"DEBUG: executing {op} with mode {mode} and arguments {tape[index+1:next_index]}\")\n",
    "        op(tape, mode, *tape[index+1:next_index])\n",
    "        index = next_index\n",
    "    return tape"
   ]
  },
  {
   "cell_type": "code",
   "execution_count": 16,
   "metadata": {},
   "outputs": [],
   "source": [
    "def test(str_tape, debug=False):\n",
    "    tape = [int(v) for v in str_tape.split(',')]\n",
    "    evaluate(tape, debug)\n",
    "    return ','.join(str(v) for v in tape)"
   ]
  },
  {
   "cell_type": "code",
   "execution_count": 19,
   "metadata": {},
   "outputs": [
    {
     "name": "stdout",
     "output_type": "stream",
     "text": [
      "DEBUG: executing <function _input at 0x106f43cb0> with mode [0] and arguments [225]\n",
      "Requesting program input> 1\n",
      "DEBUG: executing <function add at 0x106f43dd0> with mode [0, 0, 0] and arguments [225, 6, 6]\n",
      "DEBUG: executing <function add at 0x106f43dd0> with mode [1, 1, 0] and arguments [1, 238, 225]\n",
      "DEBUG: executing <function _output at 0x106f43c20> with mode [1] and arguments [0]\n",
      "Output: 0\n",
      "DEBUG: executing <function add at 0x106f43dd0> with mode [1, 1, 0] and arguments [91, 67, 225]\n",
      "DEBUG: executing <function multiply at 0x106f43d40> with mode [1, 1, 0] and arguments [67, 36, 225]\n",
      "DEBUG: executing <function multiply at 0x106f43d40> with mode [1, 1, 0] and arguments [21, 90, 225]\n",
      "DEBUG: executing <function multiply at 0x106f43d40> with mode [0, 0, 0] and arguments [13, 48, 224]\n",
      "DEBUG: executing <function add at 0x106f43dd0> with mode [1, 0, 0] and arguments [-819, 224, 224]\n",
      "DEBUG: executing <function _output at 0x106f43c20> with mode [0] and arguments [224]\n",
      "Output: 0\n",
      "DEBUG: executing <function multiply at 0x106f43d40> with mode [0, 1, 0] and arguments [223, 8, 223]\n",
      "DEBUG: executing <function add at 0x106f43dd0> with mode [1, 0, 0] and arguments [7, 224, 224]\n",
      "DEBUG: executing <function add at 0x106f43dd0> with mode [0, 0, 0] and arguments [223, 224, 223]\n",
      "DEBUG: executing <function add at 0x106f43dd0> with mode [1, 1, 0] and arguments [62, 9, 225]\n",
      "DEBUG: executing <function add at 0x106f43dd0> with mode [0, 0, 0] and arguments [139, 22, 224]\n",
      "DEBUG: executing <function add at 0x106f43dd0> with mode [1, 0, 0] and arguments [-166, 224, 224]\n",
      "DEBUG: executing <function _output at 0x106f43c20> with mode [0] and arguments [224]\n",
      "Output: 0\n",
      "DEBUG: executing <function multiply at 0x106f43d40> with mode [0, 1, 0] and arguments [223, 8, 223]\n",
      "DEBUG: executing <function add at 0x106f43dd0> with mode [1, 0, 0] and arguments [3, 224, 224]\n",
      "DEBUG: executing <function add at 0x106f43dd0> with mode [0, 0, 0] and arguments [223, 224, 223]\n",
      "DEBUG: executing <function multiply at 0x106f43d40> with mode [1, 0, 0] and arguments [41, 195, 224]\n",
      "DEBUG: executing <function add at 0x106f43dd0> with mode [1, 0, 0] and arguments [-2870, 224, 224]\n",
      "DEBUG: executing <function _output at 0x106f43c20> with mode [0] and arguments [224]\n",
      "Output: 0\n",
      "DEBUG: executing <function multiply at 0x106f43d40> with mode [0, 1, 0] and arguments [223, 8, 223]\n",
      "DEBUG: executing <function add at 0x106f43dd0> with mode [1, 0, 0] and arguments [1, 224, 224]\n",
      "DEBUG: executing <function add at 0x106f43dd0> with mode [0, 0, 0] and arguments [224, 223, 223]\n",
      "DEBUG: executing <function add at 0x106f43dd0> with mode [1, 1, 0] and arguments [46, 60, 224]\n",
      "DEBUG: executing <function add at 0x106f43dd0> with mode [1, 0, 0] and arguments [-106, 224, 224]\n",
      "DEBUG: executing <function _output at 0x106f43c20> with mode [0] and arguments [224]\n",
      "Output: 0\n",
      "DEBUG: executing <function multiply at 0x106f43d40> with mode [0, 1, 0] and arguments [223, 8, 223]\n",
      "DEBUG: executing <function add at 0x106f43dd0> with mode [0, 1, 0] and arguments [224, 2, 224]\n",
      "DEBUG: executing <function add at 0x106f43dd0> with mode [0, 0, 0] and arguments [224, 223, 223]\n",
      "DEBUG: executing <function add at 0x106f43dd0> with mode [0, 1, 0] and arguments [191, 32, 224]\n",
      "DEBUG: executing <function add at 0x106f43dd0> with mode [1, 0, 0] and arguments [-87, 224, 224]\n",
      "DEBUG: executing <function _output at 0x106f43c20> with mode [0] and arguments [224]\n",
      "Output: 0\n",
      "DEBUG: executing <function multiply at 0x106f43d40> with mode [1, 0, 0] and arguments [8, 223, 223]\n",
      "DEBUG: executing <function add at 0x106f43dd0> with mode [0, 1, 0] and arguments [224, 1, 224]\n",
      "DEBUG: executing <function add at 0x106f43dd0> with mode [0, 0, 0] and arguments [223, 224, 223]\n",
      "DEBUG: executing <function add at 0x106f43dd0> with mode [1, 1, 0] and arguments [76, 90, 225]\n",
      "DEBUG: executing <function add at 0x106f43dd0> with mode [1, 1, 0] and arguments [15, 58, 225]\n",
      "DEBUG: executing <function multiply at 0x106f43d40> with mode [1, 1, 0] and arguments [45, 42, 224]\n",
      "DEBUG: executing <function add at 0x106f43dd0> with mode [1, 0, 0] and arguments [-1890, 224, 224]\n",
      "DEBUG: executing <function _output at 0x106f43c20> with mode [0] and arguments [224]\n",
      "Output: 0\n",
      "DEBUG: executing <function multiply at 0x106f43d40> with mode [0, 1, 0] and arguments [223, 8, 223]\n",
      "DEBUG: executing <function add at 0x106f43dd0> with mode [0, 1, 0] and arguments [224, 5, 224]\n",
      "DEBUG: executing <function add at 0x106f43dd0> with mode [0, 0, 0] and arguments [224, 223, 223]\n",
      "DEBUG: executing <function add at 0x106f43dd0> with mode [1, 0, 0] and arguments [62, 143, 224]\n",
      "DEBUG: executing <function add at 0x106f43dd0> with mode [1, 0, 0] and arguments [-77, 224, 224]\n",
      "DEBUG: executing <function _output at 0x106f43c20> with mode [0] and arguments [224]\n",
      "Output: 0\n",
      "DEBUG: executing <function multiply at 0x106f43d40> with mode [0, 1, 0] and arguments [223, 8, 223]\n",
      "DEBUG: executing <function add at 0x106f43dd0> with mode [0, 1, 0] and arguments [224, 4, 224]\n",
      "DEBUG: executing <function add at 0x106f43dd0> with mode [0, 0, 0] and arguments [224, 223, 223]\n",
      "DEBUG: executing <function add at 0x106f43dd0> with mode [1, 1, 0] and arguments [55, 54, 225]\n",
      "DEBUG: executing <function multiply at 0x106f43d40> with mode [1, 1, 0] and arguments [70, 58, 225]\n",
      "DEBUG: executing <function multiply at 0x106f43d40> with mode [0, 1, 0] and arguments [17, 80, 224]\n",
      "DEBUG: executing <function add at 0x106f43dd0> with mode [1, 0, 0] and arguments [-5360, 224, 224]\n",
      "DEBUG: executing <function _output at 0x106f43c20> with mode [0] and arguments [224]\n",
      "Output: 0\n",
      "DEBUG: executing <function multiply at 0x106f43d40> with mode [1, 0, 0] and arguments [8, 223, 223]\n",
      "DEBUG: executing <function add at 0x106f43dd0> with mode [0, 1, 0] and arguments [224, 3, 224]\n",
      "DEBUG: executing <function add at 0x106f43dd0> with mode [0, 0, 0] and arguments [223, 224, 223]\n",
      "DEBUG: executing <function _output at 0x106f43c20> with mode [0] and arguments [223]\n",
      "Output: 15508323\n"
     ]
    },
    {
     "data": {
      "text/plain": [
       "'3,225,1,225,6,6,1101,1,238,225,104,0,1101,91,67,225,1102,67,36,225,1102,21,90,225,2,13,48,224,101,-819,224,224,4,224,1002,223,8,223,101,7,224,224,1,223,224,223,1101,62,9,225,1,139,22,224,101,-166,224,224,4,224,1002,223,8,223,101,3,224,224,1,223,224,223,102,41,195,224,101,-2870,224,224,4,224,1002,223,8,223,101,1,224,224,1,224,223,223,1101,46,60,224,101,-106,224,224,4,224,1002,223,8,223,1001,224,2,224,1,224,223,223,1001,191,32,224,101,-87,224,224,4,224,102,8,223,223,1001,224,1,224,1,223,224,223,1101,76,90,225,1101,15,58,225,1102,45,42,224,101,-1890,224,224,4,224,1002,223,8,223,1001,224,5,224,1,224,223,223,101,62,143,224,101,-77,224,224,4,224,1002,223,8,223,1001,224,4,224,1,224,223,223,1101,55,54,225,1102,70,58,225,1002,17,80,224,101,-5360,224,224,4,224,102,8,223,223,1001,224,3,224,1,223,224,223,4,223,99,15508323,3,4060,677,0,0,0,0,0,0,0,0,0,0,0,1105,0,99999,1105,227,247,1105,1,99999,1005,227,99999,1005,0,256,1105,1,99999,1106,227,99999,1106,0,265,1105,1,99999,1006,0,99999,1006,227,274,1105,1,99999,1105,1,280,1105,1,99999,1,225,225,225,1101,294,0,0,105,1,0,1105,1,99999,1106,0,300,1105,1,99999,1,225,225,225,1101,314,0,0,106,0,0,1105,1,99999,1008,677,677,224,102,2,223,223,1005,224,329,1001,223,1,223,1108,677,226,224,1002,223,2,223,1006,224,344,101,1,223,223,107,677,226,224,1002,223,2,223,1006,224,359,101,1,223,223,108,677,677,224,1002,223,2,223,1006,224,374,1001,223,1,223,108,226,677,224,1002,223,2,223,1006,224,389,101,1,223,223,7,226,677,224,102,2,223,223,1006,224,404,1001,223,1,223,1108,677,677,224,1002,223,2,223,1005,224,419,101,1,223,223,1008,226,677,224,102,2,223,223,1006,224,434,101,1,223,223,107,226,226,224,102,2,223,223,1005,224,449,1001,223,1,223,1007,677,677,224,1002,223,2,223,1006,224,464,1001,223,1,223,1007,226,226,224,1002,223,2,223,1005,224,479,101,1,223,223,1008,226,226,224,102,2,223,223,1006,224,494,1001,223,1,223,8,226,226,224,102,2,223,223,1006,224,509,101,1,223,223,1107,677,677,224,102,2,223,223,1005,224,524,1001,223,1,223,1108,226,677,224,1002,223,2,223,1006,224,539,101,1,223,223,1107,677,226,224,1002,223,2,223,1006,224,554,101,1,223,223,1007,677,226,224,1002,223,2,223,1005,224,569,101,1,223,223,7,677,226,224,1002,223,2,223,1006,224,584,101,1,223,223,107,677,677,224,1002,223,2,223,1005,224,599,1001,223,1,223,8,226,677,224,1002,223,2,223,1005,224,614,101,1,223,223,7,677,677,224,1002,223,2,223,1006,224,629,1001,223,1,223,1107,226,677,224,1002,223,2,223,1006,224,644,101,1,223,223,108,226,226,224,102,2,223,223,1005,224,659,1001,223,1,223,8,677,226,224,1002,223,2,223,1005,224,674,101,1,223,223,4,223,99,226'"
      ]
     },
     "execution_count": 19,
     "metadata": {},
     "output_type": "execute_result"
    }
   ],
   "source": [
    "test(data.strip(), debug=True)"
   ]
  },
  {
   "cell_type": "code",
   "execution_count": 20,
   "metadata": {},
   "outputs": [],
   "source": [
    "def evaluate(tape, debug=False):\n",
    "    index = 0\n",
    "    while tape[index] != HALT:\n",
    "        if debug:\n",
    "            #print(f\"INDEX: {index}, OP: {tape[index]}, TAPE: {','.join(str(v) for v in tape)}\")\n",
    "            pass\n",
    "        opcode = tape[index]\n",
    "        opcode_base = opcode % 100\n",
    "        op, argcount = OPS[opcode_base]\n",
    "        mode_v = (opcode - (opcode % 100)) // 100\n",
    "        mode_s = str(mode_v)\n",
    "        padded_mode_s = '0' * (argcount - len(mode_s)) + mode_s\n",
    "        mode = [int(c) for c in reversed(padded_mode_s)]\n",
    "        next_index = index + argcount + 1\n",
    "        if debug:\n",
    "            print(f\"DEBUG: executing {op} with mode {mode} and arguments {tape[index+1:next_index]}\")\n",
    "        ret = op(tape, mode, *tape[index+1:next_index])\n",
    "        index = next_index if ret is None else ret\n",
    "    return tape"
   ]
  },
  {
   "cell_type": "code",
   "execution_count": 21,
   "metadata": {},
   "outputs": [],
   "source": [
    "def moded_val(tape, mode, index):\n",
    "    return index if mode else tape[index]"
   ]
  },
  {
   "cell_type": "code",
   "execution_count": 22,
   "metadata": {},
   "outputs": [],
   "source": [
    "@register_op(opcode=5, argcount=2)\n",
    "def jump_if_true(tape, mode, p, j):\n",
    "    if moded_val(tape, mode[0], p):\n",
    "        return moded_val(tape, mode[1], j)"
   ]
  },
  {
   "cell_type": "code",
   "execution_count": 23,
   "metadata": {},
   "outputs": [],
   "source": [
    "@register_op(opcode=6, argcount=2)\n",
    "def jump_if_true(tape, mode, p, j):\n",
    "    if not moded_val(tape, mode[0], p):\n",
    "        return moded_val(tape, mode[1], j)"
   ]
  },
  {
   "cell_type": "code",
   "execution_count": 25,
   "metadata": {},
   "outputs": [],
   "source": [
    "@register_op(opcode=7, argcount=3)\n",
    "def less_than(tape, mode, ai, bi, oi):\n",
    "    tape[oi] = 1 if moded_val(tape, mode[0], ai) < moded_val(tape, mode[1], bi) else 0"
   ]
  },
  {
   "cell_type": "code",
   "execution_count": 26,
   "metadata": {},
   "outputs": [],
   "source": [
    "@register_op(opcode=8, argcount=3)\n",
    "def equals(tape, mode, ai, bi, oi):\n",
    "    tape[oi] = 1 if moded_val(tape, mode[0], ai) == moded_val(tape, mode[1], bi) else 0"
   ]
  },
  {
   "cell_type": "code",
   "execution_count": 27,
   "metadata": {},
   "outputs": [
    {
     "name": "stdout",
     "output_type": "stream",
     "text": [
      "DEBUG: executing <function _input at 0x106f43cb0> with mode [0] and arguments [225]\n",
      "Requesting program input> 5\n",
      "DEBUG: executing <function add at 0x106f43dd0> with mode [0, 0, 0] and arguments [225, 6, 6]\n",
      "DEBUG: executing <function jump_if_true at 0x10869c4d0> with mode [1, 1] and arguments [1, 238]\n",
      "DEBUG: executing <function jump_if_true at 0x10869c4d0> with mode [1, 1] and arguments [0, 99999]\n",
      "DEBUG: executing <function jump_if_true at 0x10869c4d0> with mode [1, 1] and arguments [227, 247]\n",
      "DEBUG: executing <function jump_if_true at 0x10869c4d0> with mode [0, 1] and arguments [227, 99999]\n",
      "DEBUG: executing <function jump_if_true at 0x10869c4d0> with mode [0, 1] and arguments [0, 256]\n",
      "DEBUG: executing <function jump_if_true at 0x10869ccb0> with mode [1, 1] and arguments [227, 99999]\n",
      "DEBUG: executing <function jump_if_true at 0x10869ccb0> with mode [1, 1] and arguments [0, 265]\n",
      "DEBUG: executing <function jump_if_true at 0x10869ccb0> with mode [0, 1] and arguments [0, 99999]\n",
      "DEBUG: executing <function jump_if_true at 0x10869ccb0> with mode [0, 1] and arguments [227, 274]\n",
      "DEBUG: executing <function jump_if_true at 0x10869c4d0> with mode [1, 1] and arguments [1, 280]\n",
      "DEBUG: executing <function add at 0x106f43dd0> with mode [0, 0, 0] and arguments [225, 225, 225]\n",
      "DEBUG: executing <function add at 0x106f43dd0> with mode [1, 1, 0] and arguments [294, 0, 0]\n",
      "DEBUG: executing <function jump_if_true at 0x10869c4d0> with mode [1, 0] and arguments [1, 0]\n",
      "DEBUG: executing <function jump_if_true at 0x10869ccb0> with mode [1, 1] and arguments [0, 300]\n",
      "DEBUG: executing <function add at 0x106f43dd0> with mode [0, 0, 0] and arguments [225, 225, 225]\n",
      "DEBUG: executing <function add at 0x106f43dd0> with mode [1, 1, 0] and arguments [314, 0, 0]\n",
      "DEBUG: executing <function jump_if_true at 0x10869ccb0> with mode [1, 0] and arguments [0, 0]\n",
      "DEBUG: executing <function equals at 0x10859f200> with mode [0, 1, 0] and arguments [677, 677, 224]\n",
      "DEBUG: executing <function multiply at 0x106f43d40> with mode [1, 0, 0] and arguments [2, 223, 223]\n",
      "DEBUG: executing <function jump_if_true at 0x10869c4d0> with mode [0, 1] and arguments [224, 329]\n",
      "DEBUG: executing <function add at 0x106f43dd0> with mode [0, 1, 0] and arguments [223, 1, 223]\n",
      "DEBUG: executing <function equals at 0x10859f200> with mode [1, 1, 0] and arguments [677, 226, 224]\n",
      "DEBUG: executing <function multiply at 0x106f43d40> with mode [0, 1, 0] and arguments [223, 2, 223]\n",
      "DEBUG: executing <function jump_if_true at 0x10869ccb0> with mode [0, 1] and arguments [224, 344]\n",
      "DEBUG: executing <function less_than at 0x10859f050> with mode [1, 0, 0] and arguments [677, 226, 224]\n",
      "DEBUG: executing <function multiply at 0x106f43d40> with mode [0, 1, 0] and arguments [223, 2, 223]\n",
      "DEBUG: executing <function jump_if_true at 0x10869ccb0> with mode [0, 1] and arguments [224, 359]\n",
      "DEBUG: executing <function equals at 0x10859f200> with mode [1, 0, 0] and arguments [677, 677, 224]\n",
      "DEBUG: executing <function multiply at 0x106f43d40> with mode [0, 1, 0] and arguments [223, 2, 223]\n",
      "DEBUG: executing <function jump_if_true at 0x10869ccb0> with mode [0, 1] and arguments [224, 374]\n",
      "DEBUG: executing <function equals at 0x10859f200> with mode [1, 0, 0] and arguments [226, 677, 224]\n",
      "DEBUG: executing <function multiply at 0x106f43d40> with mode [0, 1, 0] and arguments [223, 2, 223]\n",
      "DEBUG: executing <function jump_if_true at 0x10869ccb0> with mode [0, 1] and arguments [224, 389]\n",
      "DEBUG: executing <function add at 0x106f43dd0> with mode [1, 0, 0] and arguments [1, 223, 223]\n",
      "DEBUG: executing <function less_than at 0x10859f050> with mode [0, 0, 0] and arguments [226, 677, 224]\n",
      "DEBUG: executing <function multiply at 0x106f43d40> with mode [1, 0, 0] and arguments [2, 223, 223]\n",
      "DEBUG: executing <function jump_if_true at 0x10869ccb0> with mode [0, 1] and arguments [224, 404]\n",
      "DEBUG: executing <function equals at 0x10859f200> with mode [1, 1, 0] and arguments [677, 677, 224]\n",
      "DEBUG: executing <function multiply at 0x106f43d40> with mode [0, 1, 0] and arguments [223, 2, 223]\n",
      "DEBUG: executing <function jump_if_true at 0x10869c4d0> with mode [0, 1] and arguments [224, 419]\n",
      "DEBUG: executing <function equals at 0x10859f200> with mode [0, 1, 0] and arguments [226, 677, 224]\n",
      "DEBUG: executing <function multiply at 0x106f43d40> with mode [1, 0, 0] and arguments [2, 223, 223]\n",
      "DEBUG: executing <function jump_if_true at 0x10869ccb0> with mode [0, 1] and arguments [224, 434]\n",
      "DEBUG: executing <function add at 0x106f43dd0> with mode [1, 0, 0] and arguments [1, 223, 223]\n",
      "DEBUG: executing <function less_than at 0x10859f050> with mode [1, 0, 0] and arguments [226, 226, 224]\n",
      "DEBUG: executing <function multiply at 0x106f43d40> with mode [1, 0, 0] and arguments [2, 223, 223]\n",
      "DEBUG: executing <function jump_if_true at 0x10869c4d0> with mode [0, 1] and arguments [224, 449]\n",
      "DEBUG: executing <function less_than at 0x10859f050> with mode [0, 1, 0] and arguments [677, 677, 224]\n",
      "DEBUG: executing <function multiply at 0x106f43d40> with mode [0, 1, 0] and arguments [223, 2, 223]\n",
      "DEBUG: executing <function jump_if_true at 0x10869ccb0> with mode [0, 1] and arguments [224, 464]\n",
      "DEBUG: executing <function add at 0x106f43dd0> with mode [0, 1, 0] and arguments [223, 1, 223]\n",
      "DEBUG: executing <function less_than at 0x10859f050> with mode [0, 1, 0] and arguments [226, 226, 224]\n",
      "DEBUG: executing <function multiply at 0x106f43d40> with mode [0, 1, 0] and arguments [223, 2, 223]\n",
      "DEBUG: executing <function jump_if_true at 0x10869c4d0> with mode [0, 1] and arguments [224, 479]\n",
      "DEBUG: executing <function add at 0x106f43dd0> with mode [1, 0, 0] and arguments [1, 223, 223]\n",
      "DEBUG: executing <function equals at 0x10859f200> with mode [0, 1, 0] and arguments [226, 226, 224]\n",
      "DEBUG: executing <function multiply at 0x106f43d40> with mode [1, 0, 0] and arguments [2, 223, 223]\n",
      "DEBUG: executing <function jump_if_true at 0x10869ccb0> with mode [0, 1] and arguments [224, 494]\n",
      "DEBUG: executing <function equals at 0x10859f200> with mode [0, 0, 0] and arguments [226, 226, 224]\n",
      "DEBUG: executing <function multiply at 0x106f43d40> with mode [1, 0, 0] and arguments [2, 223, 223]\n",
      "DEBUG: executing <function jump_if_true at 0x10869ccb0> with mode [0, 1] and arguments [224, 509]\n",
      "DEBUG: executing <function add at 0x106f43dd0> with mode [1, 0, 0] and arguments [1, 223, 223]\n",
      "DEBUG: executing <function less_than at 0x10859f050> with mode [1, 1, 0] and arguments [677, 677, 224]\n",
      "DEBUG: executing <function multiply at 0x106f43d40> with mode [1, 0, 0] and arguments [2, 223, 223]\n",
      "DEBUG: executing <function jump_if_true at 0x10869c4d0> with mode [0, 1] and arguments [224, 524]\n",
      "DEBUG: executing <function add at 0x106f43dd0> with mode [0, 1, 0] and arguments [223, 1, 223]\n",
      "DEBUG: executing <function equals at 0x10859f200> with mode [1, 1, 0] and arguments [226, 677, 224]\n",
      "DEBUG: executing <function multiply at 0x106f43d40> with mode [0, 1, 0] and arguments [223, 2, 223]\n",
      "DEBUG: executing <function jump_if_true at 0x10869ccb0> with mode [0, 1] and arguments [224, 539]\n",
      "DEBUG: executing <function less_than at 0x10859f050> with mode [1, 1, 0] and arguments [677, 226, 224]\n",
      "DEBUG: executing <function multiply at 0x106f43d40> with mode [0, 1, 0] and arguments [223, 2, 223]\n",
      "DEBUG: executing <function jump_if_true at 0x10869ccb0> with mode [0, 1] and arguments [224, 554]\n",
      "DEBUG: executing <function less_than at 0x10859f050> with mode [0, 1, 0] and arguments [677, 226, 224]\n",
      "DEBUG: executing <function multiply at 0x106f43d40> with mode [0, 1, 0] and arguments [223, 2, 223]\n",
      "DEBUG: executing <function jump_if_true at 0x10869c4d0> with mode [0, 1] and arguments [224, 569]\n",
      "DEBUG: executing <function add at 0x106f43dd0> with mode [1, 0, 0] and arguments [1, 223, 223]\n",
      "DEBUG: executing <function less_than at 0x10859f050> with mode [0, 0, 0] and arguments [677, 226, 224]\n",
      "DEBUG: executing <function multiply at 0x106f43d40> with mode [0, 1, 0] and arguments [223, 2, 223]\n",
      "DEBUG: executing <function jump_if_true at 0x10869ccb0> with mode [0, 1] and arguments [224, 584]\n",
      "DEBUG: executing <function add at 0x106f43dd0> with mode [1, 0, 0] and arguments [1, 223, 223]\n",
      "DEBUG: executing <function less_than at 0x10859f050> with mode [1, 0, 0] and arguments [677, 677, 224]\n",
      "DEBUG: executing <function multiply at 0x106f43d40> with mode [0, 1, 0] and arguments [223, 2, 223]\n",
      "DEBUG: executing <function jump_if_true at 0x10869c4d0> with mode [0, 1] and arguments [224, 599]\n",
      "DEBUG: executing <function add at 0x106f43dd0> with mode [0, 1, 0] and arguments [223, 1, 223]\n",
      "DEBUG: executing <function equals at 0x10859f200> with mode [0, 0, 0] and arguments [226, 677, 224]\n",
      "DEBUG: executing <function multiply at 0x106f43d40> with mode [0, 1, 0] and arguments [223, 2, 223]\n",
      "DEBUG: executing <function jump_if_true at 0x10869c4d0> with mode [0, 1] and arguments [224, 614]\n",
      "DEBUG: executing <function add at 0x106f43dd0> with mode [1, 0, 0] and arguments [1, 223, 223]\n",
      "DEBUG: executing <function less_than at 0x10859f050> with mode [0, 0, 0] and arguments [677, 677, 224]\n",
      "DEBUG: executing <function multiply at 0x106f43d40> with mode [0, 1, 0] and arguments [223, 2, 223]\n",
      "DEBUG: executing <function jump_if_true at 0x10869ccb0> with mode [0, 1] and arguments [224, 629]\n",
      "DEBUG: executing <function less_than at 0x10859f050> with mode [1, 1, 0] and arguments [226, 677, 224]\n",
      "DEBUG: executing <function multiply at 0x106f43d40> with mode [0, 1, 0] and arguments [223, 2, 223]\n",
      "DEBUG: executing <function jump_if_true at 0x10869ccb0> with mode [0, 1] and arguments [224, 644]\n",
      "DEBUG: executing <function add at 0x106f43dd0> with mode [1, 0, 0] and arguments [1, 223, 223]\n",
      "DEBUG: executing <function equals at 0x10859f200> with mode [1, 0, 0] and arguments [226, 226, 224]\n",
      "DEBUG: executing <function multiply at 0x106f43d40> with mode [1, 0, 0] and arguments [2, 223, 223]\n",
      "DEBUG: executing <function jump_if_true at 0x10869c4d0> with mode [0, 1] and arguments [224, 659]\n",
      "DEBUG: executing <function add at 0x106f43dd0> with mode [0, 1, 0] and arguments [223, 1, 223]\n",
      "DEBUG: executing <function equals at 0x10859f200> with mode [0, 0, 0] and arguments [677, 226, 224]\n",
      "DEBUG: executing <function multiply at 0x106f43d40> with mode [0, 1, 0] and arguments [223, 2, 223]\n",
      "DEBUG: executing <function jump_if_true at 0x10869c4d0> with mode [0, 1] and arguments [224, 674]\n",
      "DEBUG: executing <function add at 0x106f43dd0> with mode [1, 0, 0] and arguments [1, 223, 223]\n",
      "DEBUG: executing <function _output at 0x106f43c20> with mode [0] and arguments [223]\n",
      "Output: 9006327\n"
     ]
    },
    {
     "data": {
      "text/plain": [
       "'314,225,1,225,6,6,1105,1,238,225,104,0,1101,91,67,225,1102,67,36,225,1102,21,90,225,2,13,48,224,101,-819,224,224,4,224,1002,223,8,223,101,7,224,224,1,223,224,223,1101,62,9,225,1,139,22,224,101,-166,224,224,4,224,1002,223,8,223,101,3,224,224,1,223,224,223,102,41,195,224,101,-2870,224,224,4,224,1002,223,8,223,101,1,224,224,1,224,223,223,1101,46,60,224,101,-106,224,224,4,224,1002,223,8,223,1001,224,2,224,1,224,223,223,1001,191,32,224,101,-87,224,224,4,224,102,8,223,223,1001,224,1,224,1,223,224,223,1101,76,90,225,1101,15,58,225,1102,45,42,224,101,-1890,224,224,4,224,1002,223,8,223,1001,224,5,224,1,224,223,223,101,62,143,224,101,-77,224,224,4,224,1002,223,8,223,1001,224,4,224,1,224,223,223,1101,55,54,225,1102,70,58,225,1002,17,80,224,101,-5360,224,224,4,224,102,8,223,223,1001,224,3,224,1,223,224,223,4,223,99,9006327,0,20,677,0,0,0,0,0,0,0,0,0,0,0,1105,0,99999,1105,227,247,1105,1,99999,1005,227,99999,1005,0,256,1105,1,99999,1106,227,99999,1106,0,265,1105,1,99999,1006,0,99999,1006,227,274,1105,1,99999,1105,1,280,1105,1,99999,1,225,225,225,1101,294,0,0,105,1,0,1105,1,99999,1106,0,300,1105,1,99999,1,225,225,225,1101,314,0,0,106,0,0,1105,1,99999,1008,677,677,224,102,2,223,223,1005,224,329,1001,223,1,223,1108,677,226,224,1002,223,2,223,1006,224,344,101,1,223,223,107,677,226,224,1002,223,2,223,1006,224,359,101,1,223,223,108,677,677,224,1002,223,2,223,1006,224,374,1001,223,1,223,108,226,677,224,1002,223,2,223,1006,224,389,101,1,223,223,7,226,677,224,102,2,223,223,1006,224,404,1001,223,1,223,1108,677,677,224,1002,223,2,223,1005,224,419,101,1,223,223,1008,226,677,224,102,2,223,223,1006,224,434,101,1,223,223,107,226,226,224,102,2,223,223,1005,224,449,1001,223,1,223,1007,677,677,224,1002,223,2,223,1006,224,464,1001,223,1,223,1007,226,226,224,1002,223,2,223,1005,224,479,101,1,223,223,1008,226,226,224,102,2,223,223,1006,224,494,1001,223,1,223,8,226,226,224,102,2,223,223,1006,224,509,101,1,223,223,1107,677,677,224,102,2,223,223,1005,224,524,1001,223,1,223,1108,226,677,224,1002,223,2,223,1006,224,539,101,1,223,223,1107,677,226,224,1002,223,2,223,1006,224,554,101,1,223,223,1007,677,226,224,1002,223,2,223,1005,224,569,101,1,223,223,7,677,226,224,1002,223,2,223,1006,224,584,101,1,223,223,107,677,677,224,1002,223,2,223,1005,224,599,1001,223,1,223,8,226,677,224,1002,223,2,223,1005,224,614,101,1,223,223,7,677,677,224,1002,223,2,223,1006,224,629,1001,223,1,223,1107,226,677,224,1002,223,2,223,1006,224,644,101,1,223,223,108,226,226,224,102,2,223,223,1005,224,659,1001,223,1,223,8,677,226,224,1002,223,2,223,1005,224,674,101,1,223,223,4,223,99,226'"
      ]
     },
     "execution_count": 27,
     "metadata": {},
     "output_type": "execute_result"
    }
   ],
   "source": [
    "test(data.strip(), debug=True)"
   ]
  },
  {
   "cell_type": "code",
   "execution_count": null,
   "metadata": {},
   "outputs": [],
   "source": []
  }
 ],
 "metadata": {
  "kernelspec": {
   "display_name": "Python 3",
   "language": "python",
   "name": "python3"
  },
  "language_info": {
   "codemirror_mode": {
    "name": "ipython",
    "version": 3
   },
   "file_extension": ".py",
   "mimetype": "text/x-python",
   "name": "python",
   "nbconvert_exporter": "python",
   "pygments_lexer": "ipython3",
   "version": "3.7.5"
  }
 },
 "nbformat": 4,
 "nbformat_minor": 2
}
