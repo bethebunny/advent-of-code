{
 "cells": [
  {
   "cell_type": "markdown",
   "metadata": {},
   "source": [
    "# Day 10: Monitoring Station\n",
    "You fly into the asteroid belt and reach the Ceres monitoring station. The Elves here have an emergency: they're having trouble tracking all of the asteroids and can't be sure they're safe.\n",
    "\n",
    "The Elves would like to build a new monitoring station in a nearby area of space; they hand you a map of all of the asteroids in that region (your puzzle input).\n",
    "\n",
    "The map indicates whether each position is empty (.) or contains an asteroid (#). The asteroids are much smaller than they appear on the map, and every asteroid is exactly in the center of its marked position. The asteroids can be described with X,Y coordinates where X is the distance from the left edge and Y is the distance from the top edge (so the top-left corner is 0,0 and the position immediately to its right is 1,0).\n",
    "\n",
    "Your job is to figure out which asteroid would be the best place to build a new monitoring station. A monitoring station can detect any asteroid to which it has direct line of sight - that is, there cannot be another asteroid exactly between them. This line of sight can be at any angle, not just lines aligned to the grid or diagonally. The best location is the asteroid that can detect the largest number of other asteroids.\n",
    "\n",
    "For example, consider the following map:\n",
    "\n",
    "<pre>\n",
    ".#..#\n",
    ".....\n",
    "#####\n",
    "....#\n",
    "...<b>#</b>#\n",
    "</pre>\n",
    "\n",
    "The best location for a new monitoring station on this map is the highlighted asteroid at 3,4 because it can detect 8 asteroids, more than any other location. (The only asteroid it cannot detect is the one at 1,0; its view of this asteroid is blocked by the asteroid at 2,2.) All other asteroids are worse locations; they can detect 7 or fewer other asteroids. Here is the number of other asteroids a monitoring station on each asteroid could detect:\n",
    "\n",
    "```\n",
    ".7..7\n",
    ".....\n",
    "67775\n",
    "....7\n",
    "...87\n",
    "```\n",
    "\n",
    "Here is an asteroid (#) and some examples of the ways its line of sight might be blocked. If there were another asteroid at the location of a capital letter, the locations marked with the corresponding lowercase letter would be blocked and could not be detected:\n",
    "\n",
    "```\n",
    "#.........\n",
    "...A......\n",
    "...B..a...\n",
    ".EDCG....a\n",
    "..F.c.b...\n",
    ".....c....\n",
    "..efd.c.gb\n",
    ".......c..\n",
    "....f...c.\n",
    "...e..d..c\n",
    "```\n",
    "\n",
    "Here are some larger examples:\n",
    "\n",
    "Best is 5,8 with 33 other asteroids detected:\n",
    "\n",
    "```\n",
    "......#.#.\n",
    "#..#.#....\n",
    "..#######.\n",
    ".#.#.###..\n",
    ".#..#.....\n",
    "..#....#.#\n",
    "#..#....#.\n",
    ".##.#..###\n",
    "##...#..#.\n",
    ".#....####\n",
    "```\n",
    "\n",
    "Best is 1,2 with 35 other asteroids detected:\n",
    "\n",
    "```\n",
    "#.#...#.#.\n",
    ".###....#.\n",
    ".#....#...\n",
    "##.#.#.#.#\n",
    "....#.#.#.\n",
    ".##..###.#\n",
    "..#...##..\n",
    "..##....##\n",
    "......#...\n",
    ".####.###.\n",
    "```\n",
    "\n",
    "Best is 6,3 with 41 other asteroids detected:\n",
    "\n",
    "```\n",
    ".#..#..###\n",
    "####.###.#\n",
    "....###.#.\n",
    "..###.##.#\n",
    "##.##.#.#.\n",
    "....###..#\n",
    "..#.#..#.#\n",
    "#..#.#.###\n",
    ".##...##.#\n",
    ".....#.#..\n",
    "```\n",
    "\n",
    "Best is 11,13 with 210 other asteroids detected:\n",
    "\n",
    "```\n",
    ".#..##.###...#######\n",
    "##.############..##.\n",
    ".#.######.########.#\n",
    ".###.#######.####.#.\n",
    "#####.##.#.##.###.##\n",
    "..#####..#.#########\n",
    "####################\n",
    "#.####....###.#.#.##\n",
    "##.#################\n",
    "#####.##.###..####..\n",
    "..######..##.#######\n",
    "####.##.####...##..#\n",
    ".#####..#.######.###\n",
    "##...#.##########...\n",
    "#.##########.#######\n",
    ".####.#.###.###.#.##\n",
    "....##.##.###..#####\n",
    ".#.#.###########.###\n",
    "#.#.#.#####.####.###\n",
    "###.##.####.##.#..##\n",
    "```\n",
    "\n",
    "Find the best location for a new monitoring station. How many other asteroids can be detected from that location?"
   ]
  },
  {
   "cell_type": "code",
   "execution_count": 10,
   "metadata": {},
   "outputs": [],
   "source": [
    "import enum\n",
    "\n",
    "class Space(enum.Enum):\n",
    "    EMPTY = '.'\n",
    "    ASTEROID = '#'\n",
    "\n",
    "def load_asteroid_map(s):\n",
    "    return [[Space.ASTEROID if c == '#' else Space.EMPTY for c in line] for line in s.strip().split('\\n')]"
   ]
  },
  {
   "cell_type": "code",
   "execution_count": 2,
   "metadata": {},
   "outputs": [],
   "source": [
    "def asteroid_locations(map):\n",
    "    for y, row in enumerate(map):\n",
    "        for x, thing in enumerate(row):\n",
    "            if thing is Space.ASTEROID:\n",
    "                yield (x, y)"
   ]
  },
  {
   "cell_type": "code",
   "execution_count": 3,
   "metadata": {},
   "outputs": [],
   "source": [
    "def vector(p1, p2):\n",
    "    x1, y1 = p1\n",
    "    x2, y2 = p2\n",
    "    return (x2 - x1, y2 - y1)"
   ]
  },
  {
   "cell_type": "code",
   "execution_count": 83,
   "metadata": {},
   "outputs": [],
   "source": [
    "def sign(v):\n",
    "    return 1 if v > 0 else -1"
   ]
  },
  {
   "cell_type": "code",
   "execution_count": 85,
   "metadata": {},
   "outputs": [],
   "source": [
    "def asteroids_visible(asteroids, point):\n",
    "    x, y = point\n",
    "    visible = set()\n",
    "    for asteroid_location in asteroids:\n",
    "        if asteroid_location == point:\n",
    "            # We can't monitor ourself\n",
    "            continue\n",
    "        x1, y1 = vector(point, asteroid_location)\n",
    "        x1_sign, y1_sign = sign(x1), sign(y1)\n",
    "        for seen_asteroid in visible:\n",
    "            x2, y2 = vector(point, seen_asteroid)\n",
    "            # x1     x2\n",
    "            # --  =  --\n",
    "            # y1     y2\n",
    "            # We want these to be equal, but also the signs to match;\n",
    "            # for instance (-1, 1) doesn't block vision of (1, -1) from (0, 0)\n",
    "            # even though they are all co-linear. We check both because otherwise\n",
    "            # if x1, x2 == 0 for instance, we don't want y1 = -1 to block y2 = 1\n",
    "            if x1 * y2 == x2 * y1 and (x1_sign, y1_sign) == (sign(x2), sign(y2)):\n",
    "                break\n",
    "        else:\n",
    "            visible.add(asteroid_location)\n",
    "    return visible"
   ]
  },
  {
   "cell_type": "code",
   "execution_count": 63,
   "metadata": {},
   "outputs": [],
   "source": [
    "def best_monitoring_point(map):\n",
    "    asteroids = list(asteroid_locations(map))\n",
    "    best_point = max(asteroids, key=lambda point: len(asteroids_visible(asteroids, point)))\n",
    "    visible_asteroids = asteroids_visible(asteroids, best_point)\n",
    "    return best_point, len(visible_asteroids)"
   ]
  },
  {
   "cell_type": "code",
   "execution_count": 35,
   "metadata": {},
   "outputs": [],
   "source": [
    "test_map = load_asteroid_map('''\n",
    ".#..#\n",
    ".....\n",
    "#####\n",
    "....#\n",
    "...##\n",
    "''')"
   ]
  },
  {
   "cell_type": "code",
   "execution_count": 36,
   "metadata": {},
   "outputs": [],
   "source": [
    "test_asteroids = list(asteroid_locations(test_map))"
   ]
  },
  {
   "cell_type": "code",
   "execution_count": 51,
   "metadata": {},
   "outputs": [
    {
     "name": "stdout",
     "output_type": "stream",
     "text": [
      "Saw from (1, 0): {(1, 2), (3, 2), (4, 4), (2, 2), (4, 2), (0, 2), (4, 0)}\n"
     ]
    },
    {
     "data": {
      "text/plain": [
       "7"
      ]
     },
     "execution_count": 51,
     "metadata": {},
     "output_type": "execute_result"
    }
   ],
   "source": [
    "num_asteroids_visible(test_asteroids, (1, 0))"
   ]
  },
  {
   "cell_type": "code",
   "execution_count": 46,
   "metadata": {},
   "outputs": [],
   "source": [
    "def debug_map(map, point):\n",
    "    visible_points = asteroids_visible(list(asteroid_locations(map)), point)\n",
    "    for y, row in enumerate(map):\n",
    "        row_str = ''\n",
    "        for x, thing in enumerate(row):\n",
    "            if (x, y) in visible_points:\n",
    "                row_str += '+'\n",
    "            elif (x, y) == point:\n",
    "                row_str += '#'\n",
    "            elif thing is Space.EMPTY:\n",
    "                row_str += '.'\n",
    "            else:\n",
    "                row_str += '-'\n",
    "        print(row_str)"
   ]
  },
  {
   "cell_type": "code",
   "execution_count": 52,
   "metadata": {},
   "outputs": [
    {
     "name": "stdout",
     "output_type": "stream",
     "text": [
      ".#..+\n",
      ".....\n",
      "+++++\n",
      "....-\n",
      "...-+\n"
     ]
    }
   ],
   "source": [
    "debug_map(test_map, (1, 0))"
   ]
  },
  {
   "cell_type": "code",
   "execution_count": 64,
   "metadata": {},
   "outputs": [
    {
     "data": {
      "text/plain": [
       "((3, 4), 8)"
      ]
     },
     "execution_count": 64,
     "metadata": {},
     "output_type": "execute_result"
    }
   ],
   "source": [
    "best_monitoring_point(test_map)"
   ]
  },
  {
   "cell_type": "code",
   "execution_count": 55,
   "metadata": {},
   "outputs": [],
   "source": [
    "test_map_large = load_asteroid_map('''\n",
    ".#..##.###...#######\n",
    "##.############..##.\n",
    ".#.######.########.#\n",
    ".###.#######.####.#.\n",
    "#####.##.#.##.###.##\n",
    "..#####..#.#########\n",
    "####################\n",
    "#.####....###.#.#.##\n",
    "##.#################\n",
    "#####.##.###..####..\n",
    "..######..##.#######\n",
    "####.##.####...##..#\n",
    ".#####..#.######.###\n",
    "##...#.##########...\n",
    "#.##########.#######\n",
    ".####.#.###.###.#.##\n",
    "....##.##.###..#####\n",
    ".#.#.###########.###\n",
    "#.#.#.#####.####.###\n",
    "###.##.####.##.#..##\n",
    "''')"
   ]
  },
  {
   "cell_type": "code",
   "execution_count": 59,
   "metadata": {},
   "outputs": [
    {
     "data": {
      "text/plain": [
       "154"
      ]
     },
     "execution_count": 59,
     "metadata": {},
     "output_type": "execute_result"
    }
   ],
   "source": [
    "len(asteroids_visible(list(asteroid_locations(test_map_large)), (11, 13)))"
   ]
  },
  {
   "cell_type": "code",
   "execution_count": 60,
   "metadata": {},
   "outputs": [],
   "source": [
    "# Best is 5,8 with 33 other asteroids detected:\n",
    "test_map_1 = load_asteroid_map('''\n",
    "......#.#.\n",
    "#..#.#....\n",
    "..#######.\n",
    ".#.#.###..\n",
    ".#..#.....\n",
    "..#....#.#\n",
    "#..#....#.\n",
    ".##.#..###\n",
    "##...#..#.\n",
    ".#....####\n",
    "''')"
   ]
  },
  {
   "cell_type": "code",
   "execution_count": 65,
   "metadata": {},
   "outputs": [
    {
     "data": {
      "text/plain": [
       "((0, 1), 32)"
      ]
     },
     "execution_count": 65,
     "metadata": {},
     "output_type": "execute_result"
    }
   ],
   "source": [
    "best_monitoring_point(test_map_1)"
   ]
  },
  {
   "cell_type": "code",
   "execution_count": 62,
   "metadata": {},
   "outputs": [
    {
     "name": "stdout",
     "output_type": "stream",
     "text": [
      "......+.+.\n",
      "#..+.-....\n",
      "..+++++++.\n",
      ".+.+.+-+..\n",
      ".+..+.....\n",
      "..-....+.+\n",
      "+..+....+.\n",
      ".+-.+..+--\n",
      "-+...+..+.\n",
      ".+....++++\n"
     ]
    }
   ],
   "source": [
    "debug_map(test_map_1, (0, 1))"
   ]
  },
  {
   "cell_type": "code",
   "execution_count": 68,
   "metadata": {},
   "outputs": [],
   "source": [
    "def num_asteroids_visible(map, point):\n",
    "    return len(asteroids_visible(list(asteroid_locations(map)), point))"
   ]
  },
  {
   "cell_type": "code",
   "execution_count": 87,
   "metadata": {},
   "outputs": [
    {
     "data": {
      "text/plain": [
       "33"
      ]
     },
     "execution_count": 87,
     "metadata": {},
     "output_type": "execute_result"
    }
   ],
   "source": [
    "num_asteroids_visible(test_map_1, (5, 8))"
   ]
  },
  {
   "cell_type": "code",
   "execution_count": 86,
   "metadata": {},
   "outputs": [
    {
     "name": "stdout",
     "output_type": "stream",
     "text": [
      "......+.+.\n",
      "+..+.+....\n",
      "..+++-+++.\n",
      ".+.+.-++..\n",
      ".+..+.....\n",
      "..-....+.+\n",
      "+..-....+.\n",
      ".++.-..+++\n",
      "+-...#..+.\n",
      ".+....++++\n"
     ]
    }
   ],
   "source": [
    "debug_map(test_map_1, (5, 8))"
   ]
  },
  {
   "cell_type": "code",
   "execution_count": 89,
   "metadata": {},
   "outputs": [
    {
     "data": {
      "text/plain": [
       "210"
      ]
     },
     "execution_count": 89,
     "metadata": {},
     "output_type": "execute_result"
    }
   ],
   "source": [
    "num_asteroids_visible(test_map_large, (11, 13))"
   ]
  },
  {
   "cell_type": "code",
   "execution_count": 90,
   "metadata": {},
   "outputs": [],
   "source": [
    "from tools import get_data"
   ]
  },
  {
   "cell_type": "code",
   "execution_count": 91,
   "metadata": {},
   "outputs": [],
   "source": [
    "data = get_data(10)"
   ]
  },
  {
   "cell_type": "code",
   "execution_count": 92,
   "metadata": {},
   "outputs": [
    {
     "data": {
      "text/plain": [
       "((37, 25), 309)"
      ]
     },
     "execution_count": 92,
     "metadata": {},
     "output_type": "execute_result"
    }
   ],
   "source": [
    "best_monitoring_point(load_asteroid_map(data))"
   ]
  },
  {
   "cell_type": "markdown",
   "metadata": {},
   "source": [
    "### Part Two\n",
    "Once you give them the coordinates, the Elves quickly deploy an Instant Monitoring Station to the location and discover the worst: there are simply too many asteroids.\n",
    "\n",
    "The only solution is complete vaporization by giant laser.\n",
    "\n",
    "Fortunately, in addition to an asteroid scanner, the new monitoring station also comes equipped with a giant rotating laser perfect for vaporizing asteroids. The laser starts by pointing up and always rotates clockwise, vaporizing any asteroid it hits.\n",
    "\n",
    "If multiple asteroids are exactly in line with the station, the laser only has enough power to vaporize one of them before continuing its rotation. In other words, the same asteroids that can be detected can be vaporized, but if vaporizing one asteroid makes another one detectable, the newly-detected asteroid won't be vaporized until the laser has returned to the same position by rotating a full 360 degrees.\n",
    "\n",
    "For example, consider the following map, where the asteroid with the new monitoring station (and laser) is marked X:\n",
    "\n",
    "```\n",
    ".#....#####...#..\n",
    "##...##.#####..##\n",
    "##...#...#.#####.\n",
    "..#.....X...###..\n",
    "..#.#.....#....##\n",
    "```\n",
    "\n",
    "The first nine asteroids to get vaporized, in order, would be:\n",
    "\n",
    "```\n",
    ".#....###24...#..\n",
    "##...##.13#67..9#\n",
    "##...#...5.8####.\n",
    "..#.....X...###..\n",
    "..#.#.....#....##\n",
    "```\n",
    "Note that some asteroids (the ones behind the asteroids marked 1, 5, and 7) won't have a chance to be vaporized until the next full rotation. The laser continues rotating; the next nine to be vaporized are:\n",
    "\n",
    "```\n",
    ".#....###.....#..\n",
    "##...##...#.....#\n",
    "##...#......1234.\n",
    "..#.....X...5##..\n",
    "..#.9.....8....76\n",
    "```\n",
    "\n",
    "The next nine to be vaporized are then:\n",
    "\n",
    "```\n",
    ".8....###.....#..\n",
    "56...9#...#.....#\n",
    "34...7...........\n",
    "..2.....X....##..\n",
    "..1..............\n",
    "```\n",
    "\n",
    "Finally, the laser completes its first full rotation (1 through 3), a second rotation (4 through 8), and vaporizes the last asteroid (9) partway through its third rotation:\n",
    "\n",
    "```\n",
    "......234.....6..\n",
    "......1...5.....7\n",
    ".................\n",
    "........X....89..\n",
    ".................\n",
    "```\n",
    "In the large example above (the one with the best monitoring station location at 11,13):\n",
    "\n",
    "- The 1st asteroid to be vaporized is at 11,12.\n",
    "- The 2nd asteroid to be vaporized is at 12,1.\n",
    "- The 3rd asteroid to be vaporized is at 12,2.\n",
    "- The 10th asteroid to be vaporized is at 12,8.\n",
    "- The 20th asteroid to be vaporized is at 16,0.\n",
    "- The 50th asteroid to be vaporized is at 16,9.\n",
    "- The 100th asteroid to be vaporized is at 10,16.\n",
    "- The 199th asteroid to be vaporized is at 9,6.\n",
    "- The 200th asteroid to be vaporized is at 8,2.\n",
    "- The 201st asteroid to be vaporized is at 10,9.\n",
    "- The 299th and final asteroid to be vaporized is at 11,1.\n",
    "\n",
    "The Elves are placing bets on which will be the 200th asteroid to be vaporized. Win the bet by determining which asteroid that will be; what do you get if you multiply its X coordinate by 100 and then add its Y coordinate? (For example, 8,2 becomes 802.)"
   ]
  },
  {
   "cell_type": "code",
   "execution_count": 93,
   "metadata": {},
   "outputs": [],
   "source": [
    "def sort_magnitude(vector):\n",
    "    x, y = vector\n",
    "    return x * x + y * y"
   ]
  },
  {
   "cell_type": "code",
   "execution_count": 95,
   "metadata": {},
   "outputs": [],
   "source": [
    "import collections"
   ]
  },
  {
   "cell_type": "code",
   "execution_count": 166,
   "metadata": {},
   "outputs": [],
   "source": [
    "def vector_paths(asteroids, point):\n",
    "    x, y = point\n",
    "    visible = set()\n",
    "    vector_paths = collections.defaultdict(list)\n",
    "    for asteroid_location in asteroids:\n",
    "        if asteroid_location == point:\n",
    "            # We can't monitor ourself\n",
    "            continue\n",
    "        x1, y1 = vector(point, asteroid_location)\n",
    "        x1_sign, y1_sign = sign(x1), sign(y1)\n",
    "        for seen_asteroid in visible:\n",
    "            x2, y2 = vector(point, seen_asteroid)\n",
    "            # x1     x2\n",
    "            # --  =  --\n",
    "            # y1     y2\n",
    "            # We want these to be equal, but also the signs to match;\n",
    "            # for instance (-1, 1) doesn't block vision of (1, -1) from (0, 0)\n",
    "            # even though they are all co-linear. We check both because otherwise\n",
    "            # if x1, x2 == 0 for instance, we don't want y1 = -1 to block y2 = 1\n",
    "            if x1 * y2 == x2 * y1 and (x1_sign, y1_sign) == (sign(x2), sign(y2)):\n",
    "                vector_paths[seen_asteroid].append(asteroid_location)\n",
    "                break\n",
    "        else:\n",
    "            visible.add(asteroid_location)\n",
    "            vector_paths[asteroid_location].append(asteroid_location)\n",
    "    return [\n",
    "        sorted(path, key=lambda asteroid: sort_magnitude(vector(point, asteroid)))\n",
    "        for path in vector_paths.values()\n",
    "    ]"
   ]
  },
  {
   "cell_type": "code",
   "execution_count": 168,
   "metadata": {},
   "outputs": [],
   "source": [
    "import math\n",
    "\n",
    "def tau(vector):\n",
    "    x, y = vector\n",
    "    if y >= 0:\n",
    "        return math.atan2(y, x)\n",
    "        # For x < 0, atan2 flips to -pi at (0, -1), and then goes down to 0.\n",
    "        # This is right if we basically mod with 2pi\n",
    "    return (2 * math.pi) + math.atan2(y, x)\n",
    "\n",
    "def vtau(vector):\n",
    "    x, y = vector\n",
    "    # We want 0 to start at (0, 1) rather than (1, 0) and to go clockwise\n",
    "    # rather than counterclockwise; atan2 takes in (y, x), but if we invert them\n",
    "    # we reflect over x = y which gives us what we want.\n",
    "    # Also, in this vector space, y is inverted, because \"up\" goes down to zero.\n",
    "    return tau((-y, x))"
   ]
  },
  {
   "cell_type": "code",
   "execution_count": 169,
   "metadata": {},
   "outputs": [
    {
     "data": {
      "text/plain": [
       "3.1425926532564596"
      ]
     },
     "execution_count": 169,
     "metadata": {},
     "output_type": "execute_result"
    }
   ],
   "source": [
    "vtau((-0.001, 1))"
   ]
  },
  {
   "cell_type": "code",
   "execution_count": 170,
   "metadata": {},
   "outputs": [
    {
     "data": {
      "text/plain": [
       "3.141592653589793"
      ]
     },
     "execution_count": 170,
     "metadata": {},
     "output_type": "execute_result"
    }
   ],
   "source": [
    "vtau((0, 1))"
   ]
  },
  {
   "cell_type": "code",
   "execution_count": 171,
   "metadata": {},
   "outputs": [
    {
     "data": {
      "text/plain": [
       "1.5707963267948966"
      ]
     },
     "execution_count": 171,
     "metadata": {},
     "output_type": "execute_result"
    }
   ],
   "source": [
    "vtau((1, 0))"
   ]
  },
  {
   "cell_type": "code",
   "execution_count": 172,
   "metadata": {},
   "outputs": [
    {
     "data": {
      "text/plain": [
       "0.0"
      ]
     },
     "execution_count": 172,
     "metadata": {},
     "output_type": "execute_result"
    }
   ],
   "source": [
    "vtau((0, -1))"
   ]
  },
  {
   "cell_type": "code",
   "execution_count": 173,
   "metadata": {},
   "outputs": [
    {
     "data": {
      "text/plain": [
       "6.2830853071799195"
      ]
     },
     "execution_count": 173,
     "metadata": {},
     "output_type": "execute_result"
    }
   ],
   "source": [
    "vtau((-0.0001, -1))"
   ]
  },
  {
   "cell_type": "code",
   "execution_count": 174,
   "metadata": {},
   "outputs": [
    {
     "data": {
      "text/plain": [
       "4.71238898038469"
      ]
     },
     "execution_count": 174,
     "metadata": {},
     "output_type": "execute_result"
    }
   ],
   "source": [
    "vtau((-1, 0))"
   ]
  },
  {
   "cell_type": "code",
   "execution_count": 184,
   "metadata": {},
   "outputs": [],
   "source": [
    "def destroy_in_order_with_laser(asteroids, point):\n",
    "    paths = vector_paths(asteroids, point)\n",
    "    paths = sorted(paths, key=lambda path: vtau(vector(point, path[0])))\n",
    "    path_iters = [iter(path) for path in paths]\n",
    "    while path_iters:\n",
    "        empty_path_iters = set()\n",
    "        for path_iter in path_iters:\n",
    "            try:\n",
    "                yield next(path_iter)\n",
    "            except StopIteration:\n",
    "                empty_path_iters.add(path_iter)\n",
    "        path_iters = [path_iter for path_iter in path_iters if path_iter not in empty_path_iters]"
   ]
  },
  {
   "cell_type": "code",
   "execution_count": 156,
   "metadata": {},
   "outputs": [],
   "source": [
    "def laser(map, point):\n",
    "    asteroids = list(asteroid_locations(map))\n",
    "    return list(\n",
    "        destroy_in_order_with_laser(asteroids, point)\n",
    "    )"
   ]
  },
  {
   "cell_type": "code",
   "execution_count": 177,
   "metadata": {},
   "outputs": [],
   "source": [
    "def debug_vector_paths(map, point):\n",
    "    asteroids = list(asteroid_locations(map))\n",
    "    paths = vector_paths(asteroids, point)\n",
    "    paths = sorted(paths, key=lambda path: vtau(vector(point, path[0])))\n",
    "    print(\"Sorted vector paths:\")\n",
    "    for path in paths:\n",
    "        print(vtau(vector(point, path[0])), path)"
   ]
  },
  {
   "cell_type": "code",
   "execution_count": 178,
   "metadata": {},
   "outputs": [
    {
     "name": "stdout",
     "output_type": "stream",
     "text": [
      "Sorted vector paths:\n",
      "0.0 [(11, 12), (11, 11), (11, 10), (11, 9), (11, 8), (11, 7), (11, 6), (11, 5), (11, 4), (11, 3), (11, 2), (11, 1)]\n",
      "0.08314123188844123 [(12, 1)]\n",
      "0.09065988720074511 [(12, 2)]\n",
      "0.11065722117389565 [(12, 4)]\n",
      "0.12435499454676144 [(12, 5)]\n",
      "0.14189705460416394 [(12, 6)]\n",
      "0.15264932839526515 [(13, 0)]\n",
      "0.16514867741462683 [(12, 7), (13, 1)]\n",
      "0.17985349979247828 [(13, 2)]\n",
      "0.19739555984988075 [(12, 8), (13, 3)]\n",
      "0.22679884805388587 [(14, 0)]\n",
      "0.24497866312686414 [(13, 5), (14, 1)]\n",
      "0.2662520491509254 [(14, 2)]\n",
      "0.27829965900511133 [(13, 6)]\n",
      "0.2914567944778671 [(14, 3)]\n",
      "0.2984989315861793 [(15, 0)]\n",
      "0.3217505543966422 [(14, 4)]\n",
      "0.348771003583907 [(15, 2)]\n",
      "0.35877067027057225 [(14, 5)]\n",
      "0.3671738338182192 [(16, 0)]\n",
      "0.3805063771123649 [(13, 8), (15, 3)]\n",
      "0.40489178628508343 [(14, 6)]\n",
      "0.4182243295792291 [(15, 4)]\n",
      "0.4266274931268761 [(16, 2)]\n",
      "0.43240777557053783 [(17, 0)]\n",
      "0.4636476090008061 [(14, 7), (15, 5), (16, 3), (17, 1)]\n",
      "0.49394136891958124 [(18, 0)]\n",
      "0.4993467216801301 [(17, 2)]\n",
      "0.507098504392337 [(16, 4)]\n",
      "0.5191461142465229 [(15, 6)]\n",
      "0.5280744484263596 [(18, 1)]\n",
      "0.5404195002705842 [(14, 8)]\n",
      "0.5516549825285468 [(19, 0)]\n",
      "0.5585993153435624 [(16, 5)]\n",
      "0.5880026035475675 [(13, 10)]\n",
      "0.6107259643892086 [(18, 3)]\n",
      "0.6202494859828215 [(16, 6)]\n",
      "0.628796286415433 [(19, 2)]\n",
      "0.6435011087932844 [(14, 9), (17, 5)]\n",
      "0.6610431688506869 [(18, 4)]\n",
      "0.6747409422235526 [(15, 8)]\n",
      "0.6947382761967031 [(16, 7)]\n",
      "0.7086262721276703 [(17, 6)]\n",
      "0.7188299996216245 [(18, 5)]\n",
      "0.7266423406817256 [(19, 4)]\n",
      "0.7853981633974483 [(12, 12), (14, 10), (15, 9), (16, 8), (18, 6), (19, 5)]\n",
      "0.8519663271732721 [(19, 6)]\n",
      "0.8621700546672264 [(18, 7)]\n",
      "0.8760580505981934 [(17, 8)]\n",
      "0.8960553845713439 [(16, 9)]\n",
      "0.9272952180016122 [(15, 10), (19, 7)]\n",
      "0.9505468408120752 [(18, 8)]\n",
      "0.982793723247329 [(17, 9)]\n",
      "1.0121970114513341 [(19, 8)]\n",
      "1.0303768265243125 [(16, 10)]\n",
      "1.1071487177940904 [(13, 12), (15, 11), (17, 10)]\n",
      "1.1659045405098132 [(18, 10)]\n",
      "1.1902899496825317 [(16, 11)]\n",
      "1.2120256565243244 [(19, 10)]\n",
      "1.2490457723982544 [(14, 12)]\n",
      "1.3258176636680326 [(15, 12), (19, 11)]\n",
      "1.4056476493802699 [(17, 12)]\n",
      "1.4288992721907328 [(18, 12)]\n",
      "1.446441332248135 [(19, 12)]\n",
      "1.5707963267948966 [(12, 13), (13, 13), (14, 13), (15, 13), (16, 13)]\n",
      "1.695151321341658 [(19, 14)]\n",
      "1.7126933813990606 [(18, 14)]\n",
      "1.7359450042095235 [(17, 14)]\n",
      "1.7681918866447774 [(16, 14)]\n",
      "1.8157749899217608 [(15, 14), (19, 15)]\n",
      "1.849095985800008 [(18, 15)]\n",
      "1.892546881191539 [(14, 14)]\n",
      "1.9295669970654687 [(19, 16)]\n",
      "1.9513027039072615 [(16, 15)]\n",
      "1.97568811307998 [(18, 16)]\n",
      "2.0344439357957027 [(13, 14), (17, 16), (19, 17)]\n",
      "2.0899424410414196 [(18, 17)]\n",
      "2.1112158270654806 [(16, 16)]\n",
      "2.129395642138459 [(19, 18)]\n",
      "2.158798930342464 [(14, 15), (17, 17)]\n",
      "2.191045812777718 [(18, 18)]\n",
      "2.214297435588181 [(15, 16), (19, 19)]\n",
      "2.2655346029916 [(17, 18)]\n",
      "2.279422598922567 [(18, 19)]\n",
      "2.356194490192345 [(13, 15), (15, 17)]\n",
      "2.4668517113662407 [(15, 18)]\n",
      "2.498091544796509 [(14, 17)]\n",
      "2.5535900500422257 [(15, 19)]\n",
      "2.601173153319209 [(14, 18)]\n",
      "2.677945044588987 [(12, 15), (13, 17)]\n",
      "2.761086276477428 [(13, 18)]\n",
      "2.819842099193151 [(12, 16), (13, 19)]\n",
      "2.896613990462929 [(12, 17)]\n",
      "2.9441970937399127 [(12, 18)]\n",
      "2.976443976175166 [(12, 19)]\n",
      "3.141592653589793 [(11, 14), (11, 16), (11, 17)]\n",
      "3.30674133100442 [(10, 19)]\n",
      "3.3389882134396736 [(10, 18)]\n",
      "3.3865713167166573 [(10, 17)]\n",
      "3.4633432079864352 [(10, 16), (9, 19)]\n",
      "3.522099030702158 [(9, 18)]\n",
      "3.6052402625905993 [(10, 15), (9, 17), (8, 19)]\n",
      "3.682012153860377 [(8, 18)]\n",
      "3.7295952571373605 [(7, 19)]\n",
      "3.7850937623830774 [(8, 17)]\n",
      "3.8163335958133455 [(7, 18)]\n",
      "3.9269908169872414 [(10, 14), (9, 15), (8, 16), (7, 17), (6, 18), (5, 19)]\n",
      "4.003762708257019 [(4, 19)]\n",
      "4.037648038161137 [(6, 17)]\n",
      "4.068887871591405 [(7, 16)]\n",
      "4.092139494401868 [(4, 18)]\n",
      "4.124386376837123 [(8, 15), (5, 17), (2, 19)]\n",
      "4.171969480114106 [(1, 19)]\n",
      "4.205290475992353 [(2, 18)]\n",
      "4.21304225870456 [(0, 19)]\n",
      "4.2487413713838835 [(9, 14), (5, 16), (3, 17)]\n",
      "4.285761487257814 [(0, 18)]\n",
      "4.307497194099606 [(4, 16)]\n",
      "4.331882603272325 [(6, 15), (1, 17)]\n",
      "4.3906384259880475 [(8, 14)]\n",
      "4.434089321379578 [(4, 15)]\n",
      "4.4674103172578254 [(7, 14), (3, 15)]\n",
      "4.493720034510748 [(2, 15)]\n",
      "4.514993420534809 [(6, 14), (1, 15)]\n",
      "4.547240302970063 [(5, 14)]\n",
      "4.570491925780526 [(4, 14)]\n",
      "4.588033985837928 [(3, 14)]\n",
      "4.601731759210794 [(2, 14)]\n",
      "4.621729093183944 [(0, 14)]\n",
      "4.71238898038469 [(10, 13), (9, 13), (8, 13), (7, 13), (5, 13), (1, 13), (0, 13)]\n",
      "4.8120576328758515 [(1, 12)]\n",
      "4.8230462015585855 [(2, 12)]\n",
      "4.836743974931451 [(3, 12)]\n",
      "4.854286034988854 [(4, 12)]\n",
      "4.877537657799317 [(5, 12)]\n",
      "4.892242480177168 [(0, 11)]\n",
      "4.90978454023457 [(1, 11)]\n",
      "4.931057926258632 [(2, 11)]\n",
      "4.957367643511554 [(3, 11)]\n",
      "5.034139534781332 [(8, 12), (5, 11), (2, 10)]\n",
      "5.061159983968596 [(0, 9)]\n",
      "5.071159650655262 [(3, 10)]\n",
      "5.092895357497055 [(6, 11), (1, 9)]\n",
      "5.117280766669773 [(4, 10)]\n",
      "5.130613309963919 [(2, 9)]\n",
      "5.139016473511566 [(0, 8)]\n",
      "5.176036589385496 [(5, 10), (3, 9), (1, 8)]\n",
      "5.21173570206482 [(0, 7)]\n",
      "5.231535094631212 [(4, 9)]\n",
      "5.252808480655274 [(6, 10)]\n",
      "5.270988295728252 [(3, 8)]\n",
      "5.279118197908196 [(0, 6)]\n",
      "5.3003915839322575 [(8, 11), (2, 7)]\n",
      "5.323114944773899 [(1, 6)]\n",
      "5.332638466367511 [(4, 8)]\n",
      "5.355890089177974 [(7, 10), (3, 7)]\n",
      "5.373432149235376 [(2, 6)]\n",
      "5.387129922608242 [(6, 9)]\n",
      "5.398118491290976 [(0, 4)]\n",
      "5.407127256581393 [(5, 8)]\n",
      "5.42101525251236 [(4, 7)]\n",
      "5.431218980006314 [(3, 6)]\n",
      "5.439031321066415 [(2, 5)]\n",
      "5.4452040821711964 [(1, 4)]\n",
      "5.497787143782138 [(10, 12), (9, 11), (7, 9), (6, 8), (5, 7), (4, 6), (3, 5), (2, 4), (1, 3)]\n",
      "5.541238039173669 [(0, 1)]\n",
      "5.545370247059122 [(1, 2)]\n",
      "5.5503702053930795 [(2, 3)]\n",
      "5.556542966497861 [(3, 4)]\n",
      "5.564355307557962 [(4, 5)]\n",
      "5.574559035051916 [(5, 6)]\n",
      "5.588447030982883 [(1, 1)]\n",
      "5.608444364956034 [(7, 8), (3, 3)]\n",
      "5.6221421383289 [(4, 4)]\n",
      "5.62748968093805 [(1, 0)]\n",
      "5.639684198386302 [(5, 5)]\n",
      "5.654389020764153 [(3, 2)]\n",
      "5.662935821196765 [(6, 6)]\n",
      "5.695182703632018 [(3, 1)]\n",
      "5.71645608965608 [(4, 2)]\n",
      "5.724585991836024 [(6, 5)]\n",
      "5.742765806909002 [(8, 8), (5, 3)]\n",
      "5.755110858753227 [(4, 1)]\n",
      "5.764039192933064 [(7, 6)]\n",
      "5.776086802787249 [(6, 4)]\n",
      "5.783838585499456 [(5, 2)]\n",
      "5.789243938260005 [(4, 0)]\n",
      "5.81953769817878 [(10, 11), (9, 9), (6, 3), (5, 1)]\n",
      "5.850777531609048 [(5, 0)]\n",
      "5.85655781405271 [(6, 2)]\n",
      "5.864960977600357 [(7, 4)]\n",
      "5.878293520894503 [(8, 6)]\n",
      "5.8883941874798245 [(6, 1)]\n",
      "5.902678930067221 [(9, 8), (7, 3)]\n",
      "5.93441430359568 [(7, 2)]\n",
      "5.961434752782944 [(10, 10), (7, 1)]\n",
      "5.984686375593407 [(7, 0)]\n",
      "5.9917285127017195 [(8, 3)]\n",
      "6.004885648174475 [(9, 6)]\n",
      "6.0169332580286605 [(8, 2)]\n",
      "6.038206644052722 [(10, 9), (9, 5), (8, 1)]\n",
      "6.0563864591257 [(8, 0)]\n",
      "6.064516361305644 [(9, 4)]\n",
      "6.085789747329706 [(10, 8), (9, 3)]\n",
      "6.118036629764959 [(10, 7), (9, 1)]\n",
      "6.130535978784321 [(9, 0)]\n",
      "6.141288252575422 [(10, 6)]\n",
      "6.183516654688424 [(10, 3)]\n",
      "6.192525419978841 [(10, 2)]\n",
      "6.200044075291145 [(10, 1)]\n"
     ]
    }
   ],
   "source": [
    "debug_vector_paths(test_map_large, (11, 13))"
   ]
  },
  {
   "cell_type": "code",
   "execution_count": 185,
   "metadata": {},
   "outputs": [],
   "source": [
    "destroy_order = laser(test_map_large, (11, 13))"
   ]
  },
  {
   "cell_type": "code",
   "execution_count": 186,
   "metadata": {},
   "outputs": [
    {
     "data": {
      "text/plain": [
       "(11, 12)"
      ]
     },
     "execution_count": 186,
     "metadata": {},
     "output_type": "execute_result"
    }
   ],
   "source": [
    "destroy_order[0]"
   ]
  },
  {
   "cell_type": "code",
   "execution_count": 187,
   "metadata": {},
   "outputs": [],
   "source": [
    "assert destroy_order[0] == (11, 12)"
   ]
  },
  {
   "cell_type": "code",
   "execution_count": 188,
   "metadata": {},
   "outputs": [
    {
     "data": {
      "text/plain": [
       "[(11, 12),\n",
       " (12, 1),\n",
       " (12, 2),\n",
       " (12, 4),\n",
       " (12, 5),\n",
       " (12, 6),\n",
       " (13, 0),\n",
       " (12, 7),\n",
       " (13, 2),\n",
       " (12, 8),\n",
       " (14, 0),\n",
       " (13, 5),\n",
       " (14, 2),\n",
       " (13, 6),\n",
       " (14, 3),\n",
       " (15, 0),\n",
       " (14, 4),\n",
       " (15, 2),\n",
       " (14, 5),\n",
       " (16, 0),\n",
       " (13, 8),\n",
       " (14, 6),\n",
       " (15, 4),\n",
       " (16, 2),\n",
       " (17, 0),\n",
       " (14, 7),\n",
       " (18, 0),\n",
       " (17, 2),\n",
       " (16, 4),\n",
       " (15, 6),\n",
       " (18, 1),\n",
       " (14, 8),\n",
       " (19, 0),\n",
       " (16, 5),\n",
       " (13, 10),\n",
       " (18, 3),\n",
       " (16, 6),\n",
       " (19, 2),\n",
       " (14, 9),\n",
       " (18, 4),\n",
       " (15, 8),\n",
       " (16, 7),\n",
       " (17, 6),\n",
       " (18, 5),\n",
       " (19, 4),\n",
       " (12, 12),\n",
       " (19, 6),\n",
       " (18, 7),\n",
       " (17, 8),\n",
       " (16, 9),\n",
       " (15, 10),\n",
       " (18, 8),\n",
       " (17, 9),\n",
       " (19, 8),\n",
       " (16, 10),\n",
       " (13, 12),\n",
       " (18, 10),\n",
       " (16, 11),\n",
       " (19, 10),\n",
       " (14, 12),\n",
       " (15, 12),\n",
       " (17, 12),\n",
       " (18, 12),\n",
       " (19, 12),\n",
       " (12, 13),\n",
       " (19, 14),\n",
       " (18, 14),\n",
       " (17, 14),\n",
       " (16, 14),\n",
       " (15, 14),\n",
       " (18, 15),\n",
       " (14, 14),\n",
       " (19, 16),\n",
       " (16, 15),\n",
       " (18, 16),\n",
       " (13, 14),\n",
       " (18, 17),\n",
       " (16, 16),\n",
       " (19, 18),\n",
       " (14, 15),\n",
       " (18, 18),\n",
       " (15, 16),\n",
       " (17, 18),\n",
       " (18, 19),\n",
       " (13, 15),\n",
       " (15, 18),\n",
       " (14, 17),\n",
       " (15, 19),\n",
       " (14, 18),\n",
       " (12, 15),\n",
       " (13, 18),\n",
       " (12, 16),\n",
       " (12, 17),\n",
       " (12, 18),\n",
       " (12, 19),\n",
       " (11, 14),\n",
       " (10, 19),\n",
       " (10, 18),\n",
       " (10, 17),\n",
       " (10, 16),\n",
       " (9, 18),\n",
       " (10, 15),\n",
       " (8, 18),\n",
       " (7, 19),\n",
       " (8, 17),\n",
       " (7, 18),\n",
       " (10, 14),\n",
       " (4, 19),\n",
       " (6, 17),\n",
       " (7, 16),\n",
       " (4, 18),\n",
       " (8, 15),\n",
       " (1, 19),\n",
       " (2, 18),\n",
       " (0, 19),\n",
       " (9, 14),\n",
       " (0, 18),\n",
       " (4, 16),\n",
       " (6, 15),\n",
       " (8, 14),\n",
       " (4, 15),\n",
       " (7, 14),\n",
       " (2, 15),\n",
       " (6, 14),\n",
       " (5, 14),\n",
       " (4, 14),\n",
       " (3, 14),\n",
       " (2, 14),\n",
       " (0, 14),\n",
       " (10, 13),\n",
       " (1, 12),\n",
       " (2, 12),\n",
       " (3, 12),\n",
       " (4, 12),\n",
       " (5, 12),\n",
       " (0, 11),\n",
       " (1, 11),\n",
       " (2, 11),\n",
       " (3, 11),\n",
       " (8, 12),\n",
       " (0, 9),\n",
       " (3, 10),\n",
       " (6, 11),\n",
       " (4, 10),\n",
       " (2, 9),\n",
       " (0, 8),\n",
       " (5, 10),\n",
       " (0, 7),\n",
       " (4, 9),\n",
       " (6, 10),\n",
       " (3, 8),\n",
       " (0, 6),\n",
       " (8, 11),\n",
       " (1, 6),\n",
       " (4, 8),\n",
       " (7, 10),\n",
       " (2, 6),\n",
       " (6, 9),\n",
       " (0, 4),\n",
       " (5, 8),\n",
       " (4, 7),\n",
       " (3, 6),\n",
       " (2, 5),\n",
       " (1, 4),\n",
       " (10, 12),\n",
       " (0, 1),\n",
       " (1, 2),\n",
       " (2, 3),\n",
       " (3, 4),\n",
       " (4, 5),\n",
       " (5, 6),\n",
       " (1, 1),\n",
       " (7, 8),\n",
       " (4, 4),\n",
       " (1, 0),\n",
       " (5, 5),\n",
       " (3, 2),\n",
       " (6, 6),\n",
       " (3, 1),\n",
       " (4, 2),\n",
       " (6, 5),\n",
       " (8, 8),\n",
       " (4, 1),\n",
       " (7, 6),\n",
       " (6, 4),\n",
       " (5, 2),\n",
       " (4, 0),\n",
       " (10, 11),\n",
       " (5, 0),\n",
       " (6, 2),\n",
       " (7, 4),\n",
       " (8, 6),\n",
       " (6, 1),\n",
       " (9, 8),\n",
       " (7, 2),\n",
       " (10, 10),\n",
       " (7, 0),\n",
       " (8, 3),\n",
       " (9, 6),\n",
       " (8, 2),\n",
       " (10, 9),\n",
       " (8, 0),\n",
       " (9, 4),\n",
       " (10, 8),\n",
       " (10, 7),\n",
       " (9, 0),\n",
       " (10, 6),\n",
       " (10, 3),\n",
       " (10, 2),\n",
       " (10, 1),\n",
       " (11, 11),\n",
       " (13, 1),\n",
       " (13, 3),\n",
       " (14, 1),\n",
       " (15, 3),\n",
       " (15, 5),\n",
       " (17, 5),\n",
       " (14, 10),\n",
       " (19, 7),\n",
       " (15, 11),\n",
       " (19, 11),\n",
       " (13, 13),\n",
       " (19, 15),\n",
       " (17, 16),\n",
       " (17, 17),\n",
       " (19, 19),\n",
       " (15, 17),\n",
       " (13, 17),\n",
       " (13, 19),\n",
       " (11, 16),\n",
       " (9, 19),\n",
       " (9, 17),\n",
       " (9, 15),\n",
       " (5, 17),\n",
       " (5, 16),\n",
       " (1, 17),\n",
       " (3, 15),\n",
       " (1, 15),\n",
       " (9, 13),\n",
       " (5, 11),\n",
       " (1, 9),\n",
       " (3, 9),\n",
       " (2, 7),\n",
       " (3, 7),\n",
       " (9, 11),\n",
       " (3, 3),\n",
       " (5, 3),\n",
       " (9, 9),\n",
       " (7, 3),\n",
       " (7, 1),\n",
       " (9, 5),\n",
       " (9, 3),\n",
       " (9, 1),\n",
       " (11, 10),\n",
       " (16, 3),\n",
       " (15, 9),\n",
       " (17, 10),\n",
       " (14, 13),\n",
       " (19, 17),\n",
       " (11, 17),\n",
       " (8, 19),\n",
       " (8, 16),\n",
       " (2, 19),\n",
       " (3, 17),\n",
       " (8, 13),\n",
       " (2, 10),\n",
       " (1, 8),\n",
       " (7, 9),\n",
       " (6, 3),\n",
       " (8, 1),\n",
       " (11, 9),\n",
       " (17, 1),\n",
       " (16, 8),\n",
       " (15, 13),\n",
       " (7, 17),\n",
       " (7, 13),\n",
       " (6, 8),\n",
       " (5, 1),\n",
       " (11, 8),\n",
       " (18, 6),\n",
       " (16, 13),\n",
       " (6, 18),\n",
       " (5, 13),\n",
       " (5, 7),\n",
       " (11, 7),\n",
       " (19, 5),\n",
       " (5, 19),\n",
       " (1, 13),\n",
       " (4, 6),\n",
       " (11, 6),\n",
       " (0, 13),\n",
       " (3, 5),\n",
       " (11, 5),\n",
       " (2, 4),\n",
       " (11, 4),\n",
       " (1, 3),\n",
       " (11, 3),\n",
       " (11, 2),\n",
       " (11, 1)]"
      ]
     },
     "execution_count": 188,
     "metadata": {},
     "output_type": "execute_result"
    }
   ],
   "source": [
    "The 1st asteroid to be vaporized is at 11,12.\n",
    "The 2nd asteroid to be vaporized is at 12,1.\n",
    "The 3rd asteroid to be vaporized is at 12,2.\n",
    "The 10th asteroid to be vaporized is at 12,8.\n",
    "The 20th asteroid to be vaporized is at 16,0.\n",
    "The 50th asteroid to be vaporized is at 16,9.\n",
    "The 100th asteroid to be vaporized is at 10,16.\n",
    "The 199th asteroid to be vaporized is at 9,6.\n",
    "The 200th asteroid to be vaporized is at 8,2.\n",
    "The 201st asteroid to be vaporized is at 10,9.\n",
    "The 299th and final asteroid to be vaporized is at 11,1."
   ]
  },
  {
   "cell_type": "code",
   "execution_count": 189,
   "metadata": {},
   "outputs": [],
   "source": [
    "assert destroy_order[0] == (11, 12)\n",
    "assert destroy_order[1] == (12, 1)\n",
    "assert destroy_order[2] == (12, 2)\n",
    "assert destroy_order[9] == (12, 8)\n",
    "assert destroy_order[19] == (16, 0)\n",
    "assert destroy_order[49] == (16, 9)\n",
    "assert destroy_order[99] == (10, 16)\n",
    "assert destroy_order[198] == (9, 6)\n",
    "assert destroy_order[199] == (8, 2)\n",
    "assert destroy_order[200] == (10, 9)\n",
    "assert destroy_order[298] == (11, 1)"
   ]
  },
  {
   "cell_type": "code",
   "execution_count": null,
   "metadata": {},
   "outputs": [],
   "source": [
    "laser(load_asteroid_map(data), (11, 13))"
   ]
  }
 ],
 "metadata": {
  "kernelspec": {
   "display_name": "Python 3",
   "language": "python",
   "name": "python3"
  },
  "language_info": {
   "codemirror_mode": {
    "name": "ipython",
    "version": 3
   },
   "file_extension": ".py",
   "mimetype": "text/x-python",
   "name": "python",
   "nbconvert_exporter": "python",
   "pygments_lexer": "ipython3",
   "version": "3.7.5"
  }
 },
 "nbformat": 4,
 "nbformat_minor": 2
}
