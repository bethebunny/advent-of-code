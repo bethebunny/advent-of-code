{
 "cells": [
  {
   "cell_type": "markdown",
   "metadata": {},
   "source": [
    "# Day 12: The N-Body Problem\n",
    "The space near Jupiter is not a very safe place; you need to be careful of a big distracting red spot, extreme radiation, and a whole lot of moons swirling around. You decide to start by tracking the four largest moons: Io, Europa, Ganymede, and Callisto.\n",
    "\n",
    "After a brief scan, you calculate the position of each moon (your puzzle input). You just need to simulate their motion so you can avoid them.\n",
    "\n",
    "Each moon has a 3-dimensional position (x, y, and z) and a 3-dimensional velocity. The position of each moon is given in your scan; the x, y, and z velocity of each moon starts at 0.\n",
    "\n",
    "Simulate the motion of the moons in time steps. Within each time step, first update the velocity of every moon by applying gravity. Then, once all moons' velocities have been updated, update the position of every moon by applying velocity. Time progresses by one step once all of the positions are updated.\n",
    "\n",
    "To apply gravity, consider every pair of moons. On each axis (x, y, and z), the velocity of each moon changes by exactly +1 or -1 to pull the moons together. For example, if Ganymede has an x position of 3, and Callisto has a x position of 5, then Ganymede's x velocity changes by +1 (because 5 > 3) and Callisto's x velocity changes by -1 (because 3 < 5). However, if the positions on a given axis are the same, the velocity on that axis does not change for that pair of moons.\n",
    "\n",
    "Once all gravity has been applied, apply velocity: simply add the velocity of each moon to its own position. For example, if Europa has a position of x=1, y=2, z=3 and a velocity of x=-2, y=0,z=3, then its new position would be x=-1, y=2, z=6. This process does not modify the velocity of any moon.\n",
    "\n",
    "For example, suppose your scan reveals the following positions:\n",
    "\n",
    "```\n",
    "<x=-1, y=0, z=2>\n",
    "<x=2, y=-10, z=-7>\n",
    "<x=4, y=-8, z=8>\n",
    "<x=3, y=5, z=-1>\n",
    "```\n",
    "Simulating the motion of these moons would produce the following:\n",
    "\n",
    "```\n",
    "After 0 steps:\n",
    "pos=<x=-1, y=  0, z= 2>, vel=<x= 0, y= 0, z= 0>\n",
    "pos=<x= 2, y=-10, z=-7>, vel=<x= 0, y= 0, z= 0>\n",
    "pos=<x= 4, y= -8, z= 8>, vel=<x= 0, y= 0, z= 0>\n",
    "pos=<x= 3, y=  5, z=-1>, vel=<x= 0, y= 0, z= 0>\n",
    "\n",
    "After 1 step:\n",
    "pos=<x= 2, y=-1, z= 1>, vel=<x= 3, y=-1, z=-1>\n",
    "pos=<x= 3, y=-7, z=-4>, vel=<x= 1, y= 3, z= 3>\n",
    "pos=<x= 1, y=-7, z= 5>, vel=<x=-3, y= 1, z=-3>\n",
    "pos=<x= 2, y= 2, z= 0>, vel=<x=-1, y=-3, z= 1>\n",
    "\n",
    "After 2 steps:\n",
    "pos=<x= 5, y=-3, z=-1>, vel=<x= 3, y=-2, z=-2>\n",
    "pos=<x= 1, y=-2, z= 2>, vel=<x=-2, y= 5, z= 6>\n",
    "pos=<x= 1, y=-4, z=-1>, vel=<x= 0, y= 3, z=-6>\n",
    "pos=<x= 1, y=-4, z= 2>, vel=<x=-1, y=-6, z= 2>\n",
    "\n",
    "After 3 steps:\n",
    "pos=<x= 5, y=-6, z=-1>, vel=<x= 0, y=-3, z= 0>\n",
    "pos=<x= 0, y= 0, z= 6>, vel=<x=-1, y= 2, z= 4>\n",
    "pos=<x= 2, y= 1, z=-5>, vel=<x= 1, y= 5, z=-4>\n",
    "pos=<x= 1, y=-8, z= 2>, vel=<x= 0, y=-4, z= 0>\n",
    "\n",
    "After 4 steps:\n",
    "pos=<x= 2, y=-8, z= 0>, vel=<x=-3, y=-2, z= 1>\n",
    "pos=<x= 2, y= 1, z= 7>, vel=<x= 2, y= 1, z= 1>\n",
    "pos=<x= 2, y= 3, z=-6>, vel=<x= 0, y= 2, z=-1>\n",
    "pos=<x= 2, y=-9, z= 1>, vel=<x= 1, y=-1, z=-1>\n",
    "\n",
    "After 5 steps:\n",
    "pos=<x=-1, y=-9, z= 2>, vel=<x=-3, y=-1, z= 2>\n",
    "pos=<x= 4, y= 1, z= 5>, vel=<x= 2, y= 0, z=-2>\n",
    "pos=<x= 2, y= 2, z=-4>, vel=<x= 0, y=-1, z= 2>\n",
    "pos=<x= 3, y=-7, z=-1>, vel=<x= 1, y= 2, z=-2>\n",
    "\n",
    "After 6 steps:\n",
    "pos=<x=-1, y=-7, z= 3>, vel=<x= 0, y= 2, z= 1>\n",
    "pos=<x= 3, y= 0, z= 0>, vel=<x=-1, y=-1, z=-5>\n",
    "pos=<x= 3, y=-2, z= 1>, vel=<x= 1, y=-4, z= 5>\n",
    "pos=<x= 3, y=-4, z=-2>, vel=<x= 0, y= 3, z=-1>\n",
    "\n",
    "After 7 steps:\n",
    "pos=<x= 2, y=-2, z= 1>, vel=<x= 3, y= 5, z=-2>\n",
    "pos=<x= 1, y=-4, z=-4>, vel=<x=-2, y=-4, z=-4>\n",
    "pos=<x= 3, y=-7, z= 5>, vel=<x= 0, y=-5, z= 4>\n",
    "pos=<x= 2, y= 0, z= 0>, vel=<x=-1, y= 4, z= 2>\n",
    "\n",
    "After 8 steps:\n",
    "pos=<x= 5, y= 2, z=-2>, vel=<x= 3, y= 4, z=-3>\n",
    "pos=<x= 2, y=-7, z=-5>, vel=<x= 1, y=-3, z=-1>\n",
    "pos=<x= 0, y=-9, z= 6>, vel=<x=-3, y=-2, z= 1>\n",
    "pos=<x= 1, y= 1, z= 3>, vel=<x=-1, y= 1, z= 3>\n",
    "\n",
    "After 9 steps:\n",
    "pos=<x= 5, y= 3, z=-4>, vel=<x= 0, y= 1, z=-2>\n",
    "pos=<x= 2, y=-9, z=-3>, vel=<x= 0, y=-2, z= 2>\n",
    "pos=<x= 0, y=-8, z= 4>, vel=<x= 0, y= 1, z=-2>\n",
    "pos=<x= 1, y= 1, z= 5>, vel=<x= 0, y= 0, z= 2>\n",
    "\n",
    "After 10 steps:\n",
    "pos=<x= 2, y= 1, z=-3>, vel=<x=-3, y=-2, z= 1>\n",
    "pos=<x= 1, y=-8, z= 0>, vel=<x=-1, y= 1, z= 3>\n",
    "pos=<x= 3, y=-6, z= 1>, vel=<x= 3, y= 2, z=-3>\n",
    "pos=<x= 2, y= 0, z= 4>, vel=<x= 1, y=-1, z=-1>\n",
    "```\n",
    "\n",
    "Then, it might help to calculate the total energy in the system. The total energy for a single moon is its potential energy multiplied by its kinetic energy. A moon's potential energy is the sum of the absolute values of its x, y, and z position coordinates. A moon's kinetic energy is the sum of the absolute values of its velocity coordinates. Below, each line shows the calculations for a moon's potential energy (pot), kinetic energy (kin), and total energy:\n",
    "\n",
    "Energy after 10 steps:\n",
    "```\n",
    "pot: 2 + 1 + 3 =  6;   kin: 3 + 2 + 1 = 6;   total:  6 * 6 = 36\n",
    "pot: 1 + 8 + 0 =  9;   kin: 1 + 1 + 3 = 5;   total:  9 * 5 = 45\n",
    "pot: 3 + 6 + 1 = 10;   kin: 3 + 2 + 3 = 8;   total: 10 * 8 = 80\n",
    "pot: 2 + 0 + 4 =  6;   kin: 1 + 1 + 1 = 3;   total:  6 * 3 = 18\n",
    "```\n",
    "Sum of total energy: 36 + 45 + 80 + 18 = 179\n",
    "\n",
    "In the above example, adding together the total energy for all moons after 10 steps produces the total energy in the system, 179."
   ]
  },
  {
   "cell_type": "code",
   "execution_count": 3,
   "metadata": {},
   "outputs": [],
   "source": [
    "def sign(v):\n",
    "    return 1 if v > 0 else -1 if v < 0 else 0"
   ]
  },
  {
   "cell_type": "code",
   "execution_count": 18,
   "metadata": {},
   "outputs": [],
   "source": [
    "import typing\n",
    "\n",
    "class Point3d(typing.NamedTuple):\n",
    "    x: int\n",
    "    y: int\n",
    "    z: int\n",
    "\n",
    "    def vector(self, p2: 'Point3d'):\n",
    "        return Point3d(p2.x - self.x, p2.y - self.y, p2.z - self.z)\n",
    "    \n",
    "    def magnitude(self):\n",
    "        return math.sqrt(self.x * self.x + self.y * self.y + self.z * self.z)\n",
    "    \n",
    "    def __add__(self, o):\n",
    "        return Point3d(self.x + o.x, self.y + o.y, self.z + o.z)\n",
    "    \n",
    "    def __sub__(self, o):\n",
    "        return Point3d(self.x - o.x, self.y - o.y, self.z - o.z)\n",
    "    \n",
    "    def __neg__(self):\n",
    "        return Point3d.ZERO - self\n",
    "    \n",
    "    def map(self, fn):\n",
    "        return Point3d(*(fn(v) for v in self))\n",
    "    \n",
    "    @property\n",
    "    def sign(self):\n",
    "        return self.map(sign)\n",
    "    \n",
    "Point3d.ZERO = Point3d(0, 0, 0)"
   ]
  },
  {
   "cell_type": "code",
   "execution_count": 27,
   "metadata": {},
   "outputs": [],
   "source": [
    "class Moon:\n",
    "    def __init__(self, position, velocity=Point3d.ZERO):\n",
    "        self.position = position\n",
    "        self.velocity = velocity\n",
    "        \n",
    "    def update_position(self):\n",
    "        self.position += self.velocity\n",
    "        \n",
    "    @property\n",
    "    def energy(self):\n",
    "        return sum(self.position.map(abs)) * sum(self.velocity.map(abs))\n",
    "        \n",
    "    def __repr__(self):\n",
    "        return f'Moon(position={self.position}, velocity={self.velocity})'"
   ]
  },
  {
   "cell_type": "code",
   "execution_count": 21,
   "metadata": {},
   "outputs": [],
   "source": [
    "import copy\n",
    "import itertools\n",
    "\n",
    "def simulate(moons):\n",
    "    moons = copy.deepcopy(moons)\n",
    "    while True:\n",
    "        for moon, other_moon in itertools.combinations(moons, 2):\n",
    "            velocity_update = (other_moon.position - moon.position).sign\n",
    "            moon.velocity += velocity_update\n",
    "            other_moon.velocity -= velocity_update\n",
    "        for moon in moons:\n",
    "            moon.update_position()\n",
    "        yield moons"
   ]
  },
  {
   "cell_type": "code",
   "execution_count": 7,
   "metadata": {},
   "outputs": [],
   "source": [
    "def iindex(it, index):\n",
    "    for i, v in enumerate(it):\n",
    "        if i == index:\n",
    "            return v"
   ]
  },
  {
   "cell_type": "code",
   "execution_count": 28,
   "metadata": {},
   "outputs": [],
   "source": [
    "moons = [\n",
    "    Moon(Point3d(-1, 0, 2)),\n",
    "    Moon(Point3d(2, -10, -7)),\n",
    "    Moon(Point3d(4, -8, 8)),\n",
    "    Moon(Point3d(3, 5, -1)),\n",
    "]"
   ]
  },
  {
   "cell_type": "code",
   "execution_count": 29,
   "metadata": {},
   "outputs": [
    {
     "data": {
      "text/plain": [
       "[Moon(position=Point3d(x=2, y=1, z=-3), velocity=Point3d(x=-3, y=-2, z=1)),\n",
       " Moon(position=Point3d(x=1, y=-8, z=0), velocity=Point3d(x=-1, y=1, z=3)),\n",
       " Moon(position=Point3d(x=3, y=-6, z=1), velocity=Point3d(x=3, y=2, z=-3)),\n",
       " Moon(position=Point3d(x=2, y=0, z=4), velocity=Point3d(x=1, y=-1, z=-1))]"
      ]
     },
     "execution_count": 29,
     "metadata": {},
     "output_type": "execute_result"
    }
   ],
   "source": [
    "iindex(simulate(moons), 9)"
   ]
  },
  {
   "cell_type": "code",
   "execution_count": 30,
   "metadata": {},
   "outputs": [
    {
     "data": {
      "text/plain": [
       "179"
      ]
     },
     "execution_count": 30,
     "metadata": {},
     "output_type": "execute_result"
    }
   ],
   "source": [
    "sum(moon.energy for moon in iindex(simulate(moons), 9))"
   ]
  },
  {
   "cell_type": "markdown",
   "metadata": {},
   "source": [
    "Here's a second example:\n",
    "\n",
    "```\n",
    "<x=-8, y=-10, z=0>\n",
    "<x=5, y=5, z=10>\n",
    "<x=2, y=-7, z=3>\n",
    "<x=9, y=-8, z=-3>\n",
    "```\n",
    "\n",
    "Every ten steps of simulation for 100 steps produces:\n",
    "\n",
    "```\n",
    "After 0 steps:\n",
    "pos=<x= -8, y=-10, z=  0>, vel=<x=  0, y=  0, z=  0>\n",
    "pos=<x=  5, y=  5, z= 10>, vel=<x=  0, y=  0, z=  0>\n",
    "pos=<x=  2, y= -7, z=  3>, vel=<x=  0, y=  0, z=  0>\n",
    "pos=<x=  9, y= -8, z= -3>, vel=<x=  0, y=  0, z=  0>\n",
    "\n",
    "After 10 steps:\n",
    "pos=<x= -9, y=-10, z=  1>, vel=<x= -2, y= -2, z= -1>\n",
    "pos=<x=  4, y= 10, z=  9>, vel=<x= -3, y=  7, z= -2>\n",
    "pos=<x=  8, y=-10, z= -3>, vel=<x=  5, y= -1, z= -2>\n",
    "pos=<x=  5, y=-10, z=  3>, vel=<x=  0, y= -4, z=  5>\n",
    "\n",
    "After 20 steps:\n",
    "pos=<x=-10, y=  3, z= -4>, vel=<x= -5, y=  2, z=  0>\n",
    "pos=<x=  5, y=-25, z=  6>, vel=<x=  1, y=  1, z= -4>\n",
    "pos=<x= 13, y=  1, z=  1>, vel=<x=  5, y= -2, z=  2>\n",
    "pos=<x=  0, y=  1, z=  7>, vel=<x= -1, y= -1, z=  2>\n",
    "\n",
    "After 30 steps:\n",
    "pos=<x= 15, y= -6, z= -9>, vel=<x= -5, y=  4, z=  0>\n",
    "pos=<x= -4, y=-11, z=  3>, vel=<x= -3, y=-10, z=  0>\n",
    "pos=<x=  0, y= -1, z= 11>, vel=<x=  7, y=  4, z=  3>\n",
    "pos=<x= -3, y= -2, z=  5>, vel=<x=  1, y=  2, z= -3>\n",
    "\n",
    "After 40 steps:\n",
    "pos=<x= 14, y=-12, z= -4>, vel=<x= 11, y=  3, z=  0>\n",
    "pos=<x= -1, y= 18, z=  8>, vel=<x= -5, y=  2, z=  3>\n",
    "pos=<x= -5, y=-14, z=  8>, vel=<x=  1, y= -2, z=  0>\n",
    "pos=<x=  0, y=-12, z= -2>, vel=<x= -7, y= -3, z= -3>\n",
    "\n",
    "After 50 steps:\n",
    "pos=<x=-23, y=  4, z=  1>, vel=<x= -7, y= -1, z=  2>\n",
    "pos=<x= 20, y=-31, z= 13>, vel=<x=  5, y=  3, z=  4>\n",
    "pos=<x= -4, y=  6, z=  1>, vel=<x= -1, y=  1, z= -3>\n",
    "pos=<x= 15, y=  1, z= -5>, vel=<x=  3, y= -3, z= -3>\n",
    "\n",
    "After 60 steps:\n",
    "pos=<x= 36, y=-10, z=  6>, vel=<x=  5, y=  0, z=  3>\n",
    "pos=<x=-18, y= 10, z=  9>, vel=<x= -3, y= -7, z=  5>\n",
    "pos=<x=  8, y=-12, z= -3>, vel=<x= -2, y=  1, z= -7>\n",
    "pos=<x=-18, y= -8, z= -2>, vel=<x=  0, y=  6, z= -1>\n",
    "\n",
    "After 70 steps:\n",
    "pos=<x=-33, y= -6, z=  5>, vel=<x= -5, y= -4, z=  7>\n",
    "pos=<x= 13, y= -9, z=  2>, vel=<x= -2, y= 11, z=  3>\n",
    "pos=<x= 11, y= -8, z=  2>, vel=<x=  8, y= -6, z= -7>\n",
    "pos=<x= 17, y=  3, z=  1>, vel=<x= -1, y= -1, z= -3>\n",
    "\n",
    "After 80 steps:\n",
    "pos=<x= 30, y= -8, z=  3>, vel=<x=  3, y=  3, z=  0>\n",
    "pos=<x= -2, y= -4, z=  0>, vel=<x=  4, y=-13, z=  2>\n",
    "pos=<x=-18, y= -7, z= 15>, vel=<x= -8, y=  2, z= -2>\n",
    "pos=<x= -2, y= -1, z= -8>, vel=<x=  1, y=  8, z=  0>\n",
    "\n",
    "After 90 steps:\n",
    "pos=<x=-25, y= -1, z=  4>, vel=<x=  1, y= -3, z=  4>\n",
    "pos=<x=  2, y= -9, z=  0>, vel=<x= -3, y= 13, z= -1>\n",
    "pos=<x= 32, y= -8, z= 14>, vel=<x=  5, y= -4, z=  6>\n",
    "pos=<x= -1, y= -2, z= -8>, vel=<x= -3, y= -6, z= -9>\n",
    "\n",
    "After 100 steps:\n",
    "pos=<x=  8, y=-12, z= -9>, vel=<x= -7, y=  3, z=  0>\n",
    "pos=<x= 13, y= 16, z= -3>, vel=<x=  3, y=-11, z= -5>\n",
    "pos=<x=-29, y=-11, z= -1>, vel=<x= -3, y=  7, z=  4>\n",
    "pos=<x= 16, y=-13, z= 23>, vel=<x=  7, y=  1, z=  1>\n",
    "```\n",
    "\n",
    "Energy after 100 steps:\n",
    "```\n",
    "pot:  8 + 12 +  9 = 29;   kin: 7 +  3 + 0 = 10;   total: 29 * 10 = 290\n",
    "pot: 13 + 16 +  3 = 32;   kin: 3 + 11 + 5 = 19;   total: 32 * 19 = 608\n",
    "pot: 29 + 11 +  1 = 41;   kin: 3 +  7 + 4 = 14;   total: 41 * 14 = 574\n",
    "pot: 16 + 13 + 23 = 52;   kin: 7 +  1 + 1 =  9;   total: 52 *  9 = 468\n",
    "```\n",
    "Sum of total energy: 290 + 608 + 574 + 468 = 1940"
   ]
  },
  {
   "cell_type": "code",
   "execution_count": 31,
   "metadata": {},
   "outputs": [],
   "source": [
    "example_moons_2 = [\n",
    "    Moon(Point3d(-8, -10, 0)),\n",
    "    Moon(Point3d(5, 5, 10)),\n",
    "    Moon(Point3d(2, -7, 3)),\n",
    "    Moon(Point3d(9, -8, -3)),\n",
    "]"
   ]
  },
  {
   "cell_type": "code",
   "execution_count": 34,
   "metadata": {},
   "outputs": [
    {
     "data": {
      "text/plain": [
       "1940"
      ]
     },
     "execution_count": 34,
     "metadata": {},
     "output_type": "execute_result"
    }
   ],
   "source": [
    "sum(moon.energy for moon in iindex(simulate(example_moons_2), 99))"
   ]
  },
  {
   "cell_type": "code",
   "execution_count": 35,
   "metadata": {},
   "outputs": [
    {
     "data": {
      "text/plain": [
       "[Moon(position=Point3d(x=8, y=-12, z=-9), velocity=Point3d(x=-7, y=3, z=0)),\n",
       " Moon(position=Point3d(x=13, y=16, z=-3), velocity=Point3d(x=3, y=-11, z=-5)),\n",
       " Moon(position=Point3d(x=-29, y=-11, z=-1), velocity=Point3d(x=-3, y=7, z=4)),\n",
       " Moon(position=Point3d(x=16, y=-13, z=23), velocity=Point3d(x=7, y=1, z=1))]"
      ]
     },
     "execution_count": 35,
     "metadata": {},
     "output_type": "execute_result"
    }
   ],
   "source": [
    "iindex(simulate(example_moons_2), 99)"
   ]
  },
  {
   "cell_type": "markdown",
   "metadata": {},
   "source": [
    "\n",
    "What is the total energy in the system after simulating the moons given in your scan for 1000 steps?"
   ]
  },
  {
   "cell_type": "code",
   "execution_count": 36,
   "metadata": {},
   "outputs": [],
   "source": [
    "import tools"
   ]
  },
  {
   "cell_type": "code",
   "execution_count": 37,
   "metadata": {},
   "outputs": [],
   "source": [
    "data = tools.get_data(12)"
   ]
  },
  {
   "cell_type": "code",
   "execution_count": 38,
   "metadata": {},
   "outputs": [
    {
     "name": "stdout",
     "output_type": "stream",
     "text": [
      "<x=4, y=1, z=1>\n",
      "<x=11, y=-18, z=-1>\n",
      "<x=-2, y=-10, z=-4>\n",
      "<x=-7, y=-2, z=14>\n",
      "\n"
     ]
    }
   ],
   "source": [
    "print(data)"
   ]
  },
  {
   "cell_type": "code",
   "execution_count": 39,
   "metadata": {},
   "outputs": [],
   "source": [
    "scanned_moons = [\n",
    "    Moon(Point3d(4, 1, 1)),\n",
    "    Moon(Point3d(11, -18, -1)),\n",
    "    Moon(Point3d(-2, -10, -4)),\n",
    "    Moon(Point3d(-7, -2, 14)),\n",
    "]"
   ]
  },
  {
   "cell_type": "code",
   "execution_count": 40,
   "metadata": {},
   "outputs": [],
   "source": [
    "def total_energy(moons):\n",
    "    return sum(moon.energy for moon in moons)"
   ]
  },
  {
   "cell_type": "code",
   "execution_count": 42,
   "metadata": {},
   "outputs": [
    {
     "data": {
      "text/plain": [
       "9493"
      ]
     },
     "execution_count": 42,
     "metadata": {},
     "output_type": "execute_result"
    }
   ],
   "source": [
    "total_energy(iindex(simulate(scanned_moons), 999))"
   ]
  },
  {
   "cell_type": "markdown",
   "metadata": {},
   "source": [
    "### Part Two\n",
    "All this drifting around in space makes you wonder about the nature of the universe. Does history really repeat itself? You're curious whether the moons will ever return to a previous state.\n",
    "\n",
    "Determine the number of steps that must occur before all of the moons' positions and velocities exactly match a previous point in time.\n",
    "\n",
    "For example, the first example above takes 2772 steps before they exactly match a previous point in time; it eventually returns to the initial state:\n",
    "\n",
    "```\n",
    "After 0 steps:\n",
    "pos=<x= -1, y=  0, z=  2>, vel=<x=  0, y=  0, z=  0>\n",
    "pos=<x=  2, y=-10, z= -7>, vel=<x=  0, y=  0, z=  0>\n",
    "pos=<x=  4, y= -8, z=  8>, vel=<x=  0, y=  0, z=  0>\n",
    "pos=<x=  3, y=  5, z= -1>, vel=<x=  0, y=  0, z=  0>\n",
    "\n",
    "After 2770 steps:\n",
    "pos=<x=  2, y= -1, z=  1>, vel=<x= -3, y=  2, z=  2>\n",
    "pos=<x=  3, y= -7, z= -4>, vel=<x=  2, y= -5, z= -6>\n",
    "pos=<x=  1, y= -7, z=  5>, vel=<x=  0, y= -3, z=  6>\n",
    "pos=<x=  2, y=  2, z=  0>, vel=<x=  1, y=  6, z= -2>\n",
    "\n",
    "After 2771 steps:\n",
    "pos=<x= -1, y=  0, z=  2>, vel=<x= -3, y=  1, z=  1>\n",
    "pos=<x=  2, y=-10, z= -7>, vel=<x= -1, y= -3, z= -3>\n",
    "pos=<x=  4, y= -8, z=  8>, vel=<x=  3, y= -1, z=  3>\n",
    "pos=<x=  3, y=  5, z= -1>, vel=<x=  1, y=  3, z= -1>\n",
    "\n",
    "After 2772 steps:\n",
    "pos=<x= -1, y=  0, z=  2>, vel=<x=  0, y=  0, z=  0>\n",
    "pos=<x=  2, y=-10, z= -7>, vel=<x=  0, y=  0, z=  0>\n",
    "pos=<x=  4, y= -8, z=  8>, vel=<x=  0, y=  0, z=  0>\n",
    "pos=<x=  3, y=  5, z= -1>, vel=<x=  0, y=  0, z=  0>\n",
    "```\n",
    "\n",
    "Of course, the universe might last for a very long time before repeating. Here's a copy of the second example from above:\n",
    "\n",
    "```\n",
    "<x=-8, y=-10, z=0>\n",
    "<x=5, y=5, z=10>\n",
    "<x=2, y=-7, z=3>\n",
    "<x=9, y=-8, z=-3>\n",
    "```\n",
    "\n",
    "This set of initial positions takes 4686774924 steps before it repeats a previous state! Clearly, you might need to find a more efficient way to simulate the universe.\n",
    "\n",
    "How many steps does it take to reach the first state that exactly matches a previous state?"
   ]
  },
  {
   "cell_type": "code",
   "execution_count": 43,
   "metadata": {},
   "outputs": [],
   "source": [
    "# The strategy here is to notice that, isolating each axis, the simulation is\n",
    "# independent of what's happening on each other axis.\n",
    "# If we can find how long it takes to repeat state along each axis independently,\n",
    "# then the number of steps is the LCM of the periods of each of the 3 axes, plus the amount of time\n",
    "# it takes to \"fall into\" the periodic orbit."
   ]
  },
  {
   "cell_type": "code",
   "execution_count": 52,
   "metadata": {},
   "outputs": [],
   "source": [
    "def simulate_1d(points):\n",
    "    positions = points\n",
    "    velocities = [0] * len(points)\n",
    "    previous_states = {}\n",
    "    for state_index in itertools.count():\n",
    "        for i, p1 in enumerate(positions):\n",
    "            velocities[i] += sum(1 if p2 > p1 else -1 if p2 < p1 else 0 for p2 in positions)\n",
    "        positions = [p + v for p, v in zip(positions, velocities)]\n",
    "        state = tuple(positions), tuple(velocities)\n",
    "        if state in previous_states:\n",
    "            return previous_states[state], state_index - previous_states[state]\n",
    "        else:\n",
    "            previous_states[state] = state_index"
   ]
  },
  {
   "cell_type": "code",
   "execution_count": 53,
   "metadata": {},
   "outputs": [
    {
     "data": {
      "text/plain": [
       "(0, 2028)"
      ]
     },
     "execution_count": 53,
     "metadata": {},
     "output_type": "execute_result"
    }
   ],
   "source": [
    "simulate_1d([-8, 5, 2, 9])"
   ]
  },
  {
   "cell_type": "code",
   "execution_count": 64,
   "metadata": {},
   "outputs": [],
   "source": [
    "def time_to_repeat_states(points):\n",
    "    x_positions, y_positions, z_positions = zip(*points)\n",
    "    x_to_period, x_period = simulate_1d(x_positions)\n",
    "    y_to_period, y_period = simulate_1d(y_positions)\n",
    "    z_to_period, z_period = simulate_1d(z_positions)\n",
    "    return max(x_to_period, y_to_period, z_to_period) + LCM(x_period, y_period, z_period)"
   ]
  },
  {
   "cell_type": "code",
   "execution_count": 56,
   "metadata": {},
   "outputs": [],
   "source": [
    "import math"
   ]
  },
  {
   "cell_type": "code",
   "execution_count": 58,
   "metadata": {},
   "outputs": [],
   "source": [
    "def LCM(a, *rest):\n",
    "    if not rest:\n",
    "        return a\n",
    "    elif len(rest) > 1:\n",
    "        return LCM(a, LCM(*rest))\n",
    "    else:\n",
    "        b, = rest\n",
    "        factors = 1\n",
    "        while True:\n",
    "            gcd = math.gcd(a, b)\n",
    "            if gcd == 1:\n",
    "                return a * b * factors\n",
    "            factors *= gcd\n",
    "            a //= gcd\n",
    "            b //= gcd"
   ]
  },
  {
   "cell_type": "code",
   "execution_count": 65,
   "metadata": {},
   "outputs": [
    {
     "data": {
      "text/plain": [
       "2772"
      ]
     },
     "execution_count": 65,
     "metadata": {},
     "output_type": "execute_result"
    }
   ],
   "source": [
    "time_to_repeat_states(\n",
    "    [moon.position for moon in moons]\n",
    ")"
   ]
  },
  {
   "cell_type": "code",
   "execution_count": 66,
   "metadata": {},
   "outputs": [
    {
     "data": {
      "text/plain": [
       "4686774924"
      ]
     },
     "execution_count": 66,
     "metadata": {},
     "output_type": "execute_result"
    }
   ],
   "source": [
    "time_to_repeat_states(\n",
    "    [moon.position for moon in example_moons_2]\n",
    ")"
   ]
  },
  {
   "cell_type": "code",
   "execution_count": 67,
   "metadata": {},
   "outputs": [
    {
     "data": {
      "text/plain": [
       "326365108375488"
      ]
     },
     "execution_count": 67,
     "metadata": {},
     "output_type": "execute_result"
    }
   ],
   "source": [
    "time_to_repeat_states(\n",
    "    [moon.position for moon in scanned_moons]\n",
    ")"
   ]
  },
  {
   "cell_type": "code",
   "execution_count": null,
   "metadata": {},
   "outputs": [],
   "source": []
  }
 ],
 "metadata": {
  "kernelspec": {
   "display_name": "Python 3",
   "language": "python",
   "name": "python3"
  },
  "language_info": {
   "codemirror_mode": {
    "name": "ipython",
    "version": 3
   },
   "file_extension": ".py",
   "mimetype": "text/x-python",
   "name": "python",
   "nbconvert_exporter": "python",
   "pygments_lexer": "ipython3",
   "version": "3.7.5"
  }
 },
 "nbformat": 4,
 "nbformat_minor": 2
}
