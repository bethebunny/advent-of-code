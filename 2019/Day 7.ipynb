{
 "cells": [
  {
   "cell_type": "markdown",
   "metadata": {},
   "source": [
    "# Day 7: Amplification Circuit\n",
    "Based on the navigational maps, you're going to need to send more power to your ship's thrusters to reach Santa in time. To do this, you'll need to configure a series of amplifiers already installed on the ship.\n",
    "\n",
    "There are five amplifiers connected in series; each one receives an input signal and produces an output signal. They are connected such that the first amplifier's output leads to the second amplifier's input, the second amplifier's output leads to the third amplifier's input, and so on. The first amplifier's input value is 0, and the last amplifier's output leads to your ship's thrusters.\n",
    "\n",
    "```\n",
    "    O-------O  O-------O  O-------O  O-------O  O-------O\n",
    "0 ->| Amp A |->| Amp B |->| Amp C |->| Amp D |->| Amp E |-> (to thrusters)\n",
    "    O-------O  O-------O  O-------O  O-------O  O-------O\n",
    "    \n",
    "```\n",
    "The Elves have sent you some Amplifier Controller Software (your puzzle input), a program that should run on your existing Intcode computer. Each amplifier will need to run a copy of the program.\n",
    "\n",
    "When a copy of the program starts running on an amplifier, it will first use an input instruction to ask the amplifier for its current phase setting (an integer from 0 to 4). Each phase setting is used exactly once, but the Elves can't remember which amplifier needs which phase setting.\n",
    "\n",
    "The program will then call another input instruction to get the amplifier's input signal, compute the correct output signal, and supply it back to the amplifier with an output instruction. (If the amplifier has not yet received an input signal, it waits until one arrives.)\n",
    "\n",
    "Your job is to find the largest output signal that can be sent to the thrusters by trying every possible combination of phase settings on the amplifiers. Make sure that memory is not shared or reused between copies of the program.\n",
    "\n",
    "For example, suppose you want to try the phase setting sequence 3,1,2,4,0, which would mean setting amplifier A to phase setting 3, amplifier B to setting 1, C to 2, D to 4, and E to 0. Then, you could determine the output signal that gets sent from amplifier E to the thrusters with the following steps:\n",
    "\n",
    "Start the copy of the amplifier controller software that will run on amplifier A. At its first input instruction, provide it the amplifier's phase setting, 3. At its second input instruction, provide it the input signal, 0. After some calculations, it will use an output instruction to indicate the amplifier's output signal.\n",
    "Start the software for amplifier B. Provide it the phase setting (1) and then whatever output signal was produced from amplifier A. It will then produce a new output signal destined for amplifier C.\n",
    "Start the software for amplifier C, provide the phase setting (2) and the value from amplifier B, then collect its output signal.\n",
    "\n",
    "- Run amplifier D's software, provide the phase setting (4) and input value, and collect its output signal.\n",
    "- Run amplifier E's software, provide the phase setting (0) and input value, and collect its output signal.\n",
    "\n",
    "The final output signal from amplifier E would be sent to the thrusters. However, this phase setting sequence may not have been the best one; another sequence might have sent a higher signal to the thrusters."
   ]
  },
  {
   "cell_type": "code",
   "execution_count": 1,
   "metadata": {},
   "outputs": [],
   "source": [
    "from tools import get_data"
   ]
  },
  {
   "cell_type": "code",
   "execution_count": 2,
   "metadata": {},
   "outputs": [],
   "source": [
    "data = get_data(7)"
   ]
  },
  {
   "cell_type": "code",
   "execution_count": 3,
   "metadata": {},
   "outputs": [
    {
     "data": {
      "text/plain": [
       "'3,8,1001,8,10,8,105,1,0,0,21,38,59,84,93,110,191,272,353,434,99999,3,9,101,5,9,9,1002,9,5,9,101,5,9,9,4,9,99,3,9,1001,9,3,9,1002,9,2,9,101,4,9,9,1002,9,4,9,4,9,99,3,9,102,5,9,9,1001,9,4,9,1002,9,2,9,1001,9,5,9,102,4,9,9,4,9,99,3,9,1002,9,2,9,4,9,99,3,9,1002,9,5,9,101,4,9,9,102,2,9,9,4,9,99,3,9,101,2,9,9,4,9,3,9,1002,9,2,9,4,9,3,9,1001,9,2,9,4,9,3,9,101,2,9,9,4,9,3,9,1001,9,1,9,4,9,3,9,102,2,9,9,4,9,3,9,1002,9,2,9,4,9,3,9,1002,9,2,9,4,9,3,9,101,2,9,9,4,9,3,9,102,2,9,9,4,9,99,3,9,102,2,9,9,4,9,3,9,101,2,9,9,4,9,3,9,1002,9,2,9,4,9,3,9,1002,9,2,9,4,9,3,9,1001,9,1,9,4,9,3,9,1001,9,1,9,4,9,3,9,101,2,9,9,4,9,3,9,1002,9,2,9,4,9,3,9,101,2,9,9,4,9,3,9,1001,9,2,9,4,9,99,3,9,102,2,9,9,4,9,3,9,1002,9,2,9,4,9,3,9,1002,9,2,9,4,9,3,9,101,2,9,9,4,9,3,9,1002,9,2,9,4,9,3,9,1001,9,1,9,4,9,3,9,1001,9,1,9,4,9,3,9,1002,9,2,9,4,9,3,9,102,2,9,9,4,9,3,9,101,1,9,9,4,9,99,3,9,1001,9,2,9,4,9,3,9,101,2,9,9,4,9,3,9,1001,9,1,9,4,9,3,9,102,2,9,9,4,9,3,9,101,2,9,9,4,9,3,9,1001,9,2,9,4,9,3,9,101,2,9,9,4,9,3,9,1002,9,2,9,4,9,3,9,102,2,9,9,4,9,3,9,1002,9,2,9,4,9,99,3,9,101,2,9,9,4,9,3,9,1002,9,2,9,4,9,3,9,1001,9,2,9,4,9,3,9,102,2,9,9,4,9,3,9,1001,9,2,9,4,9,3,9,1001,9,2,9,4,9,3,9,101,1,9,9,4,9,3,9,1001,9,1,9,4,9,3,9,101,1,9,9,4,9,3,9,1001,9,1,9,4,9,99\\n'"
      ]
     },
     "execution_count": 3,
     "metadata": {},
     "output_type": "execute_result"
    }
   ],
   "source": [
    "data"
   ]
  },
  {
   "cell_type": "code",
   "execution_count": 4,
   "metadata": {},
   "outputs": [],
   "source": [
    "from intcode import *"
   ]
  },
  {
   "cell_type": "code",
   "execution_count": 95,
   "metadata": {},
   "outputs": [],
   "source": [
    "class InterpreterContext:\n",
    "    def __init__(self, tape, env):\n",
    "        self.tape = tape\n",
    "        self.env = env\n",
    "        \n",
    "class CallContext:\n",
    "    def __init__(self, interpreter_ctx, argspec, op, call_mode, inputs):\n",
    "        self.tape = interpreter_ctx.tape\n",
    "        self.env = interpreter_ctx.env\n",
    "        self.mode = call_mode\n",
    "        self.inputs = inputs\n",
    "        self.argspec = argspec\n",
    "        self.op = op\n",
    "        \n",
    "    def __getitem__(self, index):\n",
    "        argspec = self.argspec[index]\n",
    "        literal = self.inputs[index]\n",
    "        if argspec is L_OR_A:\n",
    "            return literal if self.mode[index] else self.tape[literal]\n",
    "        elif argspec is ADDRESS:\n",
    "            return self.tape[literal]\n",
    "        else:\n",
    "            return literal\n",
    "    \n",
    "    def __len__(self):\n",
    "        return len(self.inputs)\n",
    "    \n",
    "    def arg_repr(self, index):\n",
    "        argspec = self.argspec[index]\n",
    "        literal = self.inputs[index]\n",
    "        if argspec is L_OR_A:\n",
    "            return f'{literal}L' if self.mode[index] else f'[{literal}](->{self.tape[literal]})'\n",
    "        elif argspec is ADDRESS:\n",
    "            return f'[{literal}](->{self.tape[literal]})'\n",
    "        else:\n",
    "            return f'{literal}L'\n",
    "    \n",
    "    def __repr__(self):\n",
    "        return f'CallContext: {self.op.__name__} {\" \".join(self.arg_repr(i) for i in range(len(self)))}'"
   ]
  },
  {
   "cell_type": "code",
   "execution_count": 99,
   "metadata": {},
   "outputs": [],
   "source": [
    "_ALL_OPS = []\n",
    "\n",
    "class IntcodeInterpreter:\n",
    "    def __init__(self):\n",
    "        self.registered_ops = {}\n",
    "        self.register_default_ops(_ALL_OPS)\n",
    "        \n",
    "    def evaluate(self, tape, env=StdioEnv(), debug=False):\n",
    "        tape = list(tape)\n",
    "        ctx = InterpreterContext(tape, env)\n",
    "        index = 0\n",
    "        ctx.env.reset()\n",
    "        while tape[index] != HALT:\n",
    "            opcode = tape[index]\n",
    "            opcode_base = opcode % 100\n",
    "            op, argspec = self.registered_ops[opcode_base]\n",
    "            argcount = len(argspec)\n",
    "            mode_v = (opcode - (opcode % 100)) // 100\n",
    "            mode_s = str(mode_v)\n",
    "            padded_mode_s = '0' * (argcount - len(mode_s)) + mode_s\n",
    "            mode = [int(c) for c in reversed(padded_mode_s)]\n",
    "            next_index = index + argcount + 1\n",
    "            call_ctx = CallContext(ctx, argspec, op, mode, tape[index+1:next_index])\n",
    "            if debug:\n",
    "                print(call_ctx)\n",
    "            ret = op(call_ctx)\n",
    "            index = next_index if ret is None else ret\n",
    "        return ctx\n",
    "    \n",
    "    def register_default_ops(self, all_ops):\n",
    "        for fn, opcode, argspec, is_official in all_ops:\n",
    "            if is_official:\n",
    "                self.registered_ops[opcode] = (fn, argspec)\n",
    "                \n",
    "    \n",
    "def register_op(opcode: int, args, is_official=True):\n",
    "    def decorator(fn):\n",
    "        _ALL_OPS.append((fn, opcode, args, is_official))\n",
    "        return fn\n",
    "    return decorator\n",
    "\n",
    "LITERAL, ADDRESS, L_OR_A = object(), object(), object()\n",
    "\n",
    "@register_op(opcode=1, args=[L_OR_A, L_OR_A, LITERAL])\n",
    "def add(ctx):\n",
    "    a, b, oi = ctx\n",
    "    ctx.tape[oi] = a + b\n",
    "\n",
    "@register_op(opcode=2, args=[L_OR_A, L_OR_A, LITERAL])\n",
    "def multiply(ctx):\n",
    "    a, b, oi = ctx\n",
    "    ctx.tape[oi] = a * b\n",
    "\n",
    "@register_op(opcode=3, args=[LITERAL])\n",
    "def _input(ctx):\n",
    "    (oi,) = ctx\n",
    "    ctx.tape[oi] = int(ctx.env.input())\n",
    "\n",
    "@register_op(opcode=4, args=[L_OR_A])\n",
    "def output(ctx):\n",
    "    (v,) = ctx\n",
    "    ctx.env.output(v)\n",
    "\n",
    "@register_op(opcode=5, args=[L_OR_A, L_OR_A])\n",
    "def jump_if_true(ctx):\n",
    "    v, ji = ctx\n",
    "    if v:\n",
    "        return ji\n",
    "\n",
    "@register_op(opcode=6, args=[L_OR_A, L_OR_A])\n",
    "def jump_if_false(ctx):\n",
    "    v, ji = ctx\n",
    "    if not v:\n",
    "        return ji\n",
    "\n",
    "@register_op(opcode=7, args=[L_OR_A, L_OR_A, LITERAL])\n",
    "def less_than(ctx):\n",
    "    a, b, oi = ctx\n",
    "    ctx.tape[oi] = int(a < b)\n",
    "\n",
    "@register_op(opcode=8, args=[L_OR_A, L_OR_A, LITERAL])\n",
    "def equals(ctx):\n",
    "    a, b, oi = ctx\n",
    "    ctx.tape[oi] = int(a == b)"
   ]
  },
  {
   "cell_type": "code",
   "execution_count": 103,
   "metadata": {},
   "outputs": [],
   "source": [
    "class StdioEnv:\n",
    "    outputs = ()\n",
    "\n",
    "    def reset(self):\n",
    "        pass\n",
    "\n",
    "    def input(self):\n",
    "        return int(input('Requesting program input> '))\n",
    "\n",
    "    def output(self, value):\n",
    "        print(\"Output:\", value)\n",
    "\n",
    "\n",
    "class ProgrammaticEnv:\n",
    "    def __init__(self, inputs):\n",
    "        self.inputs = list(inputs)\n",
    "        self.reset()\n",
    "\n",
    "    def reset(self):\n",
    "        self._iter = iter(self.inputs)\n",
    "        self.outputs = []\n",
    "\n",
    "    def input(self):\n",
    "        return int(next(self._iter))\n",
    "\n",
    "    def output(self, value):\n",
    "        self.outputs.append(value)\n",
    "        \n",
    "    def __repr__(self):\n",
    "        return f\"ProgrammaticEnv(outputs={self.outputs})\""
   ]
  },
  {
   "cell_type": "code",
   "execution_count": 100,
   "metadata": {},
   "outputs": [],
   "source": [
    "interpreter = IntcodeInterpreter()"
   ]
  },
  {
   "cell_type": "code",
   "execution_count": 101,
   "metadata": {},
   "outputs": [
    {
     "name": "stdout",
     "output_type": "stream",
     "text": [
      "CallContext: _input 8L\n",
      "Requesting program input> 4\n",
      "CallContext: add [8](->4) 10L 8L\n",
      "CallContext: jump_if_true 1L [14](->93)\n",
      "CallContext: _input 9L\n",
      "Requesting program input> 3\n",
      "CallContext: multiply [9](->3) 5L 9L\n",
      "CallContext: add 4L [9](->15) 9L\n",
      "CallContext: multiply 2L [9](->19) 9L\n",
      "CallContext: output [9](->38)\n",
      "Output: 38\n"
     ]
    },
    {
     "data": {
      "text/plain": [
       "<__main__.InterpreterContext at 0x114acb050>"
      ]
     },
     "execution_count": 101,
     "metadata": {},
     "output_type": "execute_result"
    }
   ],
   "source": [
    "interpreter.evaluate(make_tape(data), debug=True)"
   ]
  },
  {
   "cell_type": "code",
   "execution_count": 105,
   "metadata": {},
   "outputs": [
    {
     "data": {
      "text/plain": [
       "[38]"
      ]
     },
     "execution_count": 105,
     "metadata": {},
     "output_type": "execute_result"
    }
   ],
   "source": [
    "interpreter.evaluate(make_tape(data), ProgrammaticEnv([4, 3])).env.outputs"
   ]
  },
  {
   "cell_type": "markdown",
   "metadata": {},
   "source": [
    "Here are some example programs:\n",
    "\n",
    "\n",
    "Max thruster signal `43210` (from phase setting sequence 4,3,2,1,0):\n",
    "```\n",
    "3,15,3,16,1002,16,10,16,1,16,15,15,4,15,99,0,0\n",
    "```\n",
    "\n",
    "Max thruster signal `54321` (from phase setting sequence 0,1,2,3,4):\n",
    "```\n",
    "3,23,3,24,1002,24,10,24,1002,23,-1,23,\n",
    "101,5,23,23,1,24,23,23,4,23,99,0,0\n",
    "```\n",
    "\n",
    "Max thruster signal `65210` (from phase setting sequence 1,0,4,3,2):\n",
    "```\n",
    "3,31,3,32,1002,32,10,32,1001,31,-2,31,1007,31,0,33,\n",
    "1002,33,7,33,1,33,31,31,1,32,31,31,4,31,99,0,0,0\n",
    "```"
   ]
  },
  {
   "cell_type": "code",
   "execution_count": 106,
   "metadata": {},
   "outputs": [
    {
     "name": "stdout",
     "output_type": "stream",
     "text": [
      "Requesting program input> 4\n",
      "Requesting program input> 3\n",
      "Output: 34\n"
     ]
    },
    {
     "data": {
      "text/plain": [
       "()"
      ]
     },
     "execution_count": 106,
     "metadata": {},
     "output_type": "execute_result"
    }
   ],
   "source": [
    "interpreter.evaluate(make_tape('3,15,3,16,1002,16,10,16,1,16,15,15,4,15,99,0,0')).env.outputs"
   ]
  },
  {
   "cell_type": "code",
   "execution_count": 108,
   "metadata": {},
   "outputs": [
    {
     "name": "stdout",
     "output_type": "stream",
     "text": [
      "Requesting program input> 0\n",
      "Requesting program input> 1\n",
      "Output: 15\n"
     ]
    },
    {
     "data": {
      "text/plain": [
       "()"
      ]
     },
     "execution_count": 108,
     "metadata": {},
     "output_type": "execute_result"
    }
   ],
   "source": [
    "interpreter.evaluate(make_tape('3,23,3,24,1002,24,10,24,1002,23,-1,23,101,5,23,23,1,24,23,23,4,23,99,0,0')).env.outputs"
   ]
  },
  {
   "cell_type": "code",
   "execution_count": 116,
   "metadata": {},
   "outputs": [],
   "source": [
    "import itertools\n",
    "\n",
    "def phase_combinations():\n",
    "    return itertools.permutations(range(5))\n",
    "\n",
    "def compute_output_thrust_signal(amplifier_tape, phases):\n",
    "    current_signal = 0\n",
    "    for amplifier, phase in enumerate(phases):\n",
    "        result = interpreter.evaluate(amplifier_tape, ProgrammaticEnv([phase, current_signal]))\n",
    "        output_signal = result.env.outputs[0]\n",
    "        current_signal = output_signal\n",
    "    return current_signal"
   ]
  },
  {
   "cell_type": "code",
   "execution_count": 110,
   "metadata": {},
   "outputs": [
    {
     "data": {
      "text/plain": [
       "43210"
      ]
     },
     "execution_count": 110,
     "metadata": {},
     "output_type": "execute_result"
    }
   ],
   "source": [
    "compute_output_thrust_signal(make_tape('3,15,3,16,1002,16,10,16,1,16,15,15,4,15,99,0,0'), [4, 3, 2, 1, 0])"
   ]
  },
  {
   "cell_type": "code",
   "execution_count": 112,
   "metadata": {},
   "outputs": [
    {
     "data": {
      "text/plain": [
       "54321"
      ]
     },
     "execution_count": 112,
     "metadata": {},
     "output_type": "execute_result"
    }
   ],
   "source": [
    "compute_output_thrust_signal(\n",
    "    make_tape('3,23,3,24,1002,24,10,24,1002,23,-1,23,101,5,23,23,1,24,23,23,4,23,99,0,0'),\n",
    "    [0, 1, 2, 3, 4],\n",
    ")"
   ]
  },
  {
   "cell_type": "code",
   "execution_count": 113,
   "metadata": {},
   "outputs": [],
   "source": [
    "def maximum_output_thrust_signal(amplifier_tape):\n",
    "    best_phase = max(phase_combinations(), key=lambda phase: compute_output_thrust_signal(amplifier_tape, phase))\n",
    "    return best_phase, compute_output_thrust_signal(amplifier_tape, best_phase)"
   ]
  },
  {
   "cell_type": "code",
   "execution_count": 118,
   "metadata": {},
   "outputs": [
    {
     "data": {
      "text/plain": [
       "((0, 1, 2, 3, 4), 54321)"
      ]
     },
     "execution_count": 118,
     "metadata": {},
     "output_type": "execute_result"
    }
   ],
   "source": [
    "maximum_output_thrust_signal(make_tape('3,23,3,24,1002,24,10,24,1002,23,-1,23,101,5,23,23,1,24,23,23,4,23,99,0,0'))"
   ]
  },
  {
   "cell_type": "code",
   "execution_count": 119,
   "metadata": {},
   "outputs": [
    {
     "data": {
      "text/plain": [
       "((0, 1, 2, 4, 3), 225056)"
      ]
     },
     "execution_count": 119,
     "metadata": {},
     "output_type": "execute_result"
    }
   ],
   "source": [
    "maximum_output_thrust_signal(make_tape(data))"
   ]
  },
  {
   "cell_type": "markdown",
   "metadata": {},
   "source": [
    "### Part Two\n",
    "\n",
    "It's no good - in this configuration, the amplifiers can't generate a large enough output signal to produce the thrust you'll need. The Elves quickly talk you through rewiring the amplifiers into a feedback loop:\n",
    "\n",
    "```\n",
    "      O-------O  O-------O  O-------O  O-------O  O-------O\n",
    "0 -+->| Amp A |->| Amp B |->| Amp C |->| Amp D |->| Amp E |-.\n",
    "   |  O-------O  O-------O  O-------O  O-------O  O-------O |\n",
    "   |                                                        |\n",
    "   '--------------------------------------------------------+\n",
    "                                                            |\n",
    "                                                            v\n",
    "                                                     (to thrusters)\n",
    "```\n",
    "\n",
    "Most of the amplifiers are connected as they were before; amplifier A's output is connected to amplifier B's input, and so on. However, the output from amplifier E is now connected into amplifier A's input. This creates the feedback loop: the signal will be sent through the amplifiers many times.\n",
    "\n",
    "In feedback loop mode, the amplifiers need totally different phase settings: integers from 5 to 9, again each used exactly once. These settings will cause the Amplifier Controller Software to repeatedly take input and produce output many times before halting. Provide each amplifier its phase setting at its first input instruction; all further input/output instructions are for signals.\n",
    "\n",
    "Don't restart the Amplifier Controller Software on any amplifier during this process. Each one should continue receiving and sending signals until it halts.\n",
    "\n",
    "All signals sent or received in this process will be between pairs of amplifiers except the very first signal and the very last signal. To start the process, a 0 signal is sent to amplifier A's input exactly once.\n",
    "\n",
    "Eventually, the software on the amplifiers will halt after they have processed the final loop. When this happens, the last output signal from amplifier E is sent to the thrusters. Your job is to find the largest output signal that can be sent to the thrusters using the new phase settings and feedback loop arrangement."
   ]
  },
  {
   "cell_type": "code",
   "execution_count": 156,
   "metadata": {},
   "outputs": [],
   "source": [
    "_ALL_OPS = []\n",
    "YIELD = object()\n",
    "\n",
    "class InterpreterContext:\n",
    "    def __init__(self, tape, env, index=0, state=None, trampoline=False, debug=False):\n",
    "        self.tape = tape\n",
    "        self.env = env\n",
    "        self.state = state\n",
    "        self.debug = debug\n",
    "        self.trampoline = trampoline\n",
    "        self.index = index\n",
    "        \n",
    "    def __repr__(self):\n",
    "        return f'''\n",
    "            InterpreterContext(\n",
    "                index={self.index},\n",
    "                state={self.state},\n",
    "                tape={self.tape},\n",
    "            )\n",
    "            '''\n",
    "\n",
    "class IntcodeInterpreter:\n",
    "    def __init__(self):\n",
    "        self.registered_ops = {}\n",
    "        self.register_default_ops(_ALL_OPS)\n",
    "        \n",
    "    def evaluate(self, tape, env=StdioEnv(), trampoline=False, debug=False):\n",
    "        tape = list(tape)\n",
    "        ctx = InterpreterContext(tape, env)\n",
    "        ctx.env.reset()\n",
    "        return self.evaluate_from_context(ctx)\n",
    "    \n",
    "    def evaluate_from_context(self, ctx):\n",
    "        ctx.state = 'RUNNING'\n",
    "        tape = ctx.tape\n",
    "        debug = ctx.debug\n",
    "        index = ctx.index\n",
    "        while tape[index] != HALT:\n",
    "            opcode = tape[index]\n",
    "            opcode_base = opcode % 100\n",
    "            op, argspec = self.registered_ops[opcode_base]\n",
    "            argcount = len(argspec)\n",
    "            mode_v = (opcode - (opcode % 100)) // 100\n",
    "            mode_s = str(mode_v)\n",
    "            padded_mode_s = '0' * (argcount - len(mode_s)) + mode_s\n",
    "            mode = [int(c) for c in reversed(padded_mode_s)]\n",
    "            next_index = index + argcount + 1\n",
    "            call_ctx = CallContext(ctx, argspec, op, mode, tape[index+1:next_index])\n",
    "            if debug:\n",
    "                print(call_ctx)\n",
    "            ret = op(call_ctx)\n",
    "            index = next_index if ret is None else ret\n",
    "            ctx.index = index\n",
    "            \n",
    "            # Handle trampoline YIELD cases\n",
    "            if op is output and ctx.trampoline:\n",
    "                ctx.state = YIELD\n",
    "                return ctx\n",
    "        \n",
    "        ctx.state = HALT\n",
    "        return ctx\n",
    "    \n",
    "    def register_default_ops(self, all_ops):\n",
    "        for fn, opcode, argspec, is_official in all_ops:\n",
    "            if is_official:\n",
    "                self.registered_ops[opcode] = (fn, argspec)\n",
    "                \n",
    "    \n",
    "def register_op(opcode: int, args, is_official=True):\n",
    "    def decorator(fn):\n",
    "        _ALL_OPS.append((fn, opcode, args, is_official))\n",
    "        return fn\n",
    "    return decorator\n",
    "\n",
    "LITERAL, ADDRESS, L_OR_A = object(), object(), object()\n",
    "\n",
    "@register_op(opcode=1, args=[L_OR_A, L_OR_A, LITERAL])\n",
    "def add(ctx):\n",
    "    a, b, oi = ctx\n",
    "    ctx.tape[oi] = a + b\n",
    "\n",
    "@register_op(opcode=2, args=[L_OR_A, L_OR_A, LITERAL])\n",
    "def multiply(ctx):\n",
    "    a, b, oi = ctx\n",
    "    ctx.tape[oi] = a * b\n",
    "\n",
    "@register_op(opcode=3, args=[LITERAL])\n",
    "def _input(ctx):\n",
    "    (oi,) = ctx\n",
    "    ctx.tape[oi] = int(ctx.env.input())\n",
    "\n",
    "@register_op(opcode=4, args=[L_OR_A])\n",
    "def output(ctx):\n",
    "    (v,) = ctx\n",
    "    ctx.env.output(v)\n",
    "\n",
    "@register_op(opcode=5, args=[L_OR_A, L_OR_A])\n",
    "def jump_if_true(ctx):\n",
    "    v, ji = ctx\n",
    "    if v:\n",
    "        return ji\n",
    "\n",
    "@register_op(opcode=6, args=[L_OR_A, L_OR_A])\n",
    "def jump_if_false(ctx):\n",
    "    v, ji = ctx\n",
    "    if not v:\n",
    "        return ji\n",
    "\n",
    "@register_op(opcode=7, args=[L_OR_A, L_OR_A, LITERAL])\n",
    "def less_than(ctx):\n",
    "    a, b, oi = ctx\n",
    "    ctx.tape[oi] = int(a < b)\n",
    "\n",
    "@register_op(opcode=8, args=[L_OR_A, L_OR_A, LITERAL])\n",
    "def equals(ctx):\n",
    "    a, b, oi = ctx\n",
    "    ctx.tape[oi] = int(a == b)"
   ]
  },
  {
   "cell_type": "code",
   "execution_count": 164,
   "metadata": {},
   "outputs": [],
   "source": [
    "def compute_feedback_thrust_signal(interpreter, amplifier_tape, phases):\n",
    "    current_signal = 0\n",
    "    contexts = [InterpreterContext(list(amplifier_tape), env=None, trampoline=True) for _ in phases]\n",
    "    outputs = []\n",
    "    started = set()\n",
    "    for ctx, phase in itertools.cycle(zip(contexts, phases)):\n",
    "        if phase not in started:\n",
    "            inputs = [phase, current_signal]\n",
    "            started.add(phase)\n",
    "            ctx.env = ProgrammaticEnv(inputs)\n",
    "        else:\n",
    "            ctx.env = ProgrammaticEnv([current_signal])\n",
    "        result = interpreter.evaluate_from_context(ctx)\n",
    "        if result.state is HALT:\n",
    "            break\n",
    "        elif result.state is YIELD:\n",
    "            output_signal = result.env.outputs[0]\n",
    "            current_signal = output_signal\n",
    "            outputs.append(output_signal)\n",
    "    # We care about the last output given by the last phase, in case that isn't the one\n",
    "    # that halts\n",
    "    return outputs[-1 - (len(outputs) % len(phases))]"
   ]
  },
  {
   "cell_type": "markdown",
   "metadata": {},
   "source": [
    "Here are some example programs:\n",
    "\n",
    "Max thruster signal `139629729` (from phase setting sequence 9,8,7,6,5):\n",
    "```\n",
    "3,26,1001,26,-4,26,3,27,1002,27,2,27,1,27,26,\n",
    "27,4,27,1001,28,-1,28,1005,28,6,99,0,0,5\n",
    "```\n",
    "\n",
    "Max thruster signal `18216` (from phase setting sequence 9,7,8,5,6):\n",
    "\n",
    "```\n",
    "3,52,1001,52,-5,52,3,53,1,52,56,54,1007,54,5,55,1005,55,26,1001,54,\n",
    "-5,54,1105,1,12,1,53,54,53,1008,54,0,55,1001,55,1,55,2,53,55,53,4,\n",
    "53,1001,56,-1,56,1005,56,6,99,0,0,0,0,10\n",
    "```\n",
    "\n",
    "Try every combination of the new phase settings on the amplifier feedback loop. What is the highest signal that can be sent to the thrusters?"
   ]
  },
  {
   "cell_type": "code",
   "execution_count": 165,
   "metadata": {},
   "outputs": [
    {
     "data": {
      "text/plain": [
       "139629729"
      ]
     },
     "execution_count": 165,
     "metadata": {},
     "output_type": "execute_result"
    }
   ],
   "source": [
    "compute_feedback_thrust_signal(\n",
    "    IntcodeInterpreter(),\n",
    "    make_tape('3,26,1001,26,-4,26,3,27,1002,27,2,27,1,27,26,27,4,27,1001,28,-1,28,1005,28,6,99,0,0,5'),\n",
    "    [9, 8, 7, 6, 5],\n",
    ")"
   ]
  },
  {
   "cell_type": "code",
   "execution_count": 166,
   "metadata": {},
   "outputs": [
    {
     "data": {
      "text/plain": [
       "18216"
      ]
     },
     "execution_count": 166,
     "metadata": {},
     "output_type": "execute_result"
    }
   ],
   "source": [
    "compute_feedback_thrust_signal(\n",
    "    IntcodeInterpreter(),\n",
    "    make_tape('3,52,1001,52,-5,52,3,53,1,52,56,54,1007,54,5,55,1005,55,26,1001,54,-5,54,1105,1,12,1,53,54,53,1008,54,0,55,1001,55,1,55,2,53,55,53,4,53,1001,56,-1,56,1005,56,6,99,0,0,0,0,10'),\n",
    "    [9, 7, 8, 5, 6],\n",
    ")"
   ]
  },
  {
   "cell_type": "code",
   "execution_count": 174,
   "metadata": {},
   "outputs": [],
   "source": [
    "def maximum_feedback_output_thrust_signal(amplifier_tape):\n",
    "    possible_phases = itertools.permutations(range(5, 10))\n",
    "    best_phase = max(possible_phases, key=lambda phase: compute_feedback_thrust_signal(IntcodeInterpreter(), amplifier_tape, phase))\n",
    "    return best_phase, compute_feedback_thrust_signal(IntcodeInterpreter(), amplifier_tape, best_phase)"
   ]
  },
  {
   "cell_type": "code",
   "execution_count": 175,
   "metadata": {},
   "outputs": [
    {
     "data": {
      "text/plain": [
       "((9, 8, 7, 6, 5), 139629729)"
      ]
     },
     "execution_count": 175,
     "metadata": {},
     "output_type": "execute_result"
    }
   ],
   "source": [
    "maximum_feedback_output_thrust_signal(make_tape('3,26,1001,26,-4,26,3,27,1002,27,2,27,1,27,26,27,4,27,1001,28,-1,28,1005,28,6,99,0,0,5'))"
   ]
  },
  {
   "cell_type": "code",
   "execution_count": 176,
   "metadata": {},
   "outputs": [
    {
     "data": {
      "text/plain": [
       "((8, 5, 9, 6, 7), 14260332)"
      ]
     },
     "execution_count": 176,
     "metadata": {},
     "output_type": "execute_result"
    }
   ],
   "source": [
    "maximum_feedback_output_thrust_signal(make_tape(data))"
   ]
  },
  {
   "cell_type": "code",
   "execution_count": null,
   "metadata": {},
   "outputs": [],
   "source": []
  }
 ],
 "metadata": {
  "kernelspec": {
   "display_name": "Python 3",
   "language": "python",
   "name": "python3"
  },
  "language_info": {
   "codemirror_mode": {
    "name": "ipython",
    "version": 3
   },
   "file_extension": ".py",
   "mimetype": "text/x-python",
   "name": "python",
   "nbconvert_exporter": "python",
   "pygments_lexer": "ipython3",
   "version": "3.7.5"
  }
 },
 "nbformat": 4,
 "nbformat_minor": 2
}
